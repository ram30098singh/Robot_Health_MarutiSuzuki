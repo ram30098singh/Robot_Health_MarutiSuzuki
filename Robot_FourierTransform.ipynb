{
  "nbformat": 4,
  "nbformat_minor": 0,
  "metadata": {
    "colab": {
      "provenance": [],
      "authorship_tag": "ABX9TyOgEZishauA2xJ27bOXHr7P",
      "include_colab_link": true
    },
    "kernelspec": {
      "name": "python3",
      "display_name": "Python 3"
    },
    "language_info": {
      "name": "python"
    }
  },
  "cells": [
    {
      "cell_type": "markdown",
      "metadata": {
        "id": "view-in-github",
        "colab_type": "text"
      },
      "source": [
        "<a href=\"https://colab.research.google.com/github/ram30098singh/Robot_Health_MarutiSuzuki/blob/main/Robot_FourierTransform.ipynb\" target=\"_parent\"><img src=\"https://colab.research.google.com/assets/colab-badge.svg\" alt=\"Open In Colab\"/></a>"
      ]
    },
    {
      "cell_type": "code",
      "execution_count": 11,
      "metadata": {
        "id": "mIi3ajetSJwX"
      },
      "outputs": [],
      "source": [
        "import numpy as np\n",
        "from scipy.fft import fft\n",
        "import pandas as pd\n",
        "import matplotlib.pyplot as plt\n",
        "from pathlib import Path"
      ]
    },
    {
      "cell_type": "code",
      "source": [
        "from google.colab import drive\n",
        "drive.mount('/gdrive')"
      ],
      "metadata": {
        "colab": {
          "base_uri": "https://localhost:8080/"
        },
        "id": "m75GvVuASLjp",
        "outputId": "28ace6e6-e00d-4879-90df-4744fac2de7f"
      },
      "execution_count": 12,
      "outputs": [
        {
          "output_type": "stream",
          "name": "stdout",
          "text": [
            "Drive already mounted at /gdrive; to attempt to forcibly remount, call drive.mount(\"/gdrive\", force_remount=True).\n"
          ]
        }
      ]
    },
    {
      "cell_type": "code",
      "source": [
        "from IPython.core.interactiveshell import InteractiveShell\n",
        "InteractiveShell.ast_node_interactivity = \"all\""
      ],
      "metadata": {
        "id": "ctz1g7QsSPFp"
      },
      "execution_count": 13,
      "outputs": []
    },
    {
      "cell_type": "code",
      "source": [
        "pathToFolder = \"/gdrive/My Drive/RAC_Maruti\""
      ],
      "metadata": {
        "id": "93TxJSJFSVc_"
      },
      "execution_count": 14,
      "outputs": []
    },
    {
      "cell_type": "code",
      "source": [
        "path = Path(pathToFolder) / \"formatted_data.csv\""
      ],
      "metadata": {
        "id": "Ge6c-cSeSZcg"
      },
      "execution_count": 15,
      "outputs": []
    },
    {
      "cell_type": "code",
      "source": [
        "formatted_data = pd.read_csv(path)\n",
        "formatted_data.head()"
      ],
      "metadata": {
        "colab": {
          "base_uri": "https://localhost:8080/",
          "height": 429
        },
        "id": "qitBoTkhVZ4_",
        "outputId": "3971e60a-11bf-441b-a1d1-190d1806898f"
      },
      "execution_count": 16,
      "outputs": [
        {
          "output_type": "stream",
          "name": "stderr",
          "text": [
            "<ipython-input-16-267b3f56332a>:1: DtypeWarning: Columns (17,19,22) have mixed types. Specify dtype option on import or set low_memory=False.\n",
            "  formatted_data = pd.read_csv(path)\n"
          ]
        },
        {
          "output_type": "execute_result",
          "data": {
            "text/plain": [
              "   SNo  Current J1  Position J1  Current J2  Position J2  Current J3  \\\n",
              "0    1       -1.18        53.00        1.32       -22.00       -0.08   \n",
              "1    3       -1.88        52.95       -0.49       -22.02       -3.20   \n",
              "2    2       -1.88        52.95       -0.49       -22.02       -3.20   \n",
              "3    4       -4.78        52.74       -5.34       -22.11        3.05   \n",
              "4    5       -9.12        52.02       -5.07       -22.35        3.90   \n",
              "\n",
              "   Position J3  Current J4  Position J4  Current J5  ...  Program Register  \\\n",
              "0         0.01        0.05        -0.01        0.12  ...                41   \n",
              "1         0.20        0.01        -0.30        1.84  ...                41   \n",
              "2         0.20        0.01        -0.30        1.84  ...                41   \n",
              "3         1.13       -5.05        -1.77        6.95  ...                41   \n",
              "4         2.95      -10.19        -4.77       12.25  ...                41   \n",
              "\n",
              "   Program Name  Program Line Number Robot Fault Output  Alarm  \\\n",
              "0         O0911                  NaN                NaN    NaN   \n",
              "1         O0911                  NaN                NaN    NaN   \n",
              "2         O0911                  NaN                NaN    NaN   \n",
              "3         O0911                  NaN                NaN    NaN   \n",
              "4         O0911                  NaN                NaN    NaN   \n",
              "\n",
              "  Battery Low Level Output        Date        TimeStamp  Quality  \\\n",
              "0                      NaN  2023-06-23  07-09-30.744000      NaN   \n",
              "1                      NaN  2023-06-23  07-09-30.794000      NaN   \n",
              "2                      NaN  2023-06-23  07-09-30.794000      NaN   \n",
              "3                      NaN  2023-06-23  07-09-30.857000      NaN   \n",
              "4                      NaN  2023-06-23  07-09-30.920000      NaN   \n",
              "\n",
              "  record_timestamp  \n",
              "0     1.687504e+09  \n",
              "1     1.687504e+09  \n",
              "2     1.687504e+09  \n",
              "3     1.687504e+09  \n",
              "4     1.687504e+09  \n",
              "\n",
              "[5 rows x 24 columns]"
            ],
            "text/html": [
              "\n",
              "  <div id=\"df-b5c6eb44-567b-4645-b3a9-3f215cf0fbcb\" class=\"colab-df-container\">\n",
              "    <div>\n",
              "<style scoped>\n",
              "    .dataframe tbody tr th:only-of-type {\n",
              "        vertical-align: middle;\n",
              "    }\n",
              "\n",
              "    .dataframe tbody tr th {\n",
              "        vertical-align: top;\n",
              "    }\n",
              "\n",
              "    .dataframe thead th {\n",
              "        text-align: right;\n",
              "    }\n",
              "</style>\n",
              "<table border=\"1\" class=\"dataframe\">\n",
              "  <thead>\n",
              "    <tr style=\"text-align: right;\">\n",
              "      <th></th>\n",
              "      <th>SNo</th>\n",
              "      <th>Current J1</th>\n",
              "      <th>Position J1</th>\n",
              "      <th>Current J2</th>\n",
              "      <th>Position J2</th>\n",
              "      <th>Current J3</th>\n",
              "      <th>Position J3</th>\n",
              "      <th>Current J4</th>\n",
              "      <th>Position J4</th>\n",
              "      <th>Current J5</th>\n",
              "      <th>...</th>\n",
              "      <th>Program Register</th>\n",
              "      <th>Program Name</th>\n",
              "      <th>Program Line Number</th>\n",
              "      <th>Robot Fault Output</th>\n",
              "      <th>Alarm</th>\n",
              "      <th>Battery Low Level Output</th>\n",
              "      <th>Date</th>\n",
              "      <th>TimeStamp</th>\n",
              "      <th>Quality</th>\n",
              "      <th>record_timestamp</th>\n",
              "    </tr>\n",
              "  </thead>\n",
              "  <tbody>\n",
              "    <tr>\n",
              "      <th>0</th>\n",
              "      <td>1</td>\n",
              "      <td>-1.18</td>\n",
              "      <td>53.00</td>\n",
              "      <td>1.32</td>\n",
              "      <td>-22.00</td>\n",
              "      <td>-0.08</td>\n",
              "      <td>0.01</td>\n",
              "      <td>0.05</td>\n",
              "      <td>-0.01</td>\n",
              "      <td>0.12</td>\n",
              "      <td>...</td>\n",
              "      <td>41</td>\n",
              "      <td>O0911</td>\n",
              "      <td>NaN</td>\n",
              "      <td>NaN</td>\n",
              "      <td>NaN</td>\n",
              "      <td>NaN</td>\n",
              "      <td>2023-06-23</td>\n",
              "      <td>07-09-30.744000</td>\n",
              "      <td>NaN</td>\n",
              "      <td>1.687504e+09</td>\n",
              "    </tr>\n",
              "    <tr>\n",
              "      <th>1</th>\n",
              "      <td>3</td>\n",
              "      <td>-1.88</td>\n",
              "      <td>52.95</td>\n",
              "      <td>-0.49</td>\n",
              "      <td>-22.02</td>\n",
              "      <td>-3.20</td>\n",
              "      <td>0.20</td>\n",
              "      <td>0.01</td>\n",
              "      <td>-0.30</td>\n",
              "      <td>1.84</td>\n",
              "      <td>...</td>\n",
              "      <td>41</td>\n",
              "      <td>O0911</td>\n",
              "      <td>NaN</td>\n",
              "      <td>NaN</td>\n",
              "      <td>NaN</td>\n",
              "      <td>NaN</td>\n",
              "      <td>2023-06-23</td>\n",
              "      <td>07-09-30.794000</td>\n",
              "      <td>NaN</td>\n",
              "      <td>1.687504e+09</td>\n",
              "    </tr>\n",
              "    <tr>\n",
              "      <th>2</th>\n",
              "      <td>2</td>\n",
              "      <td>-1.88</td>\n",
              "      <td>52.95</td>\n",
              "      <td>-0.49</td>\n",
              "      <td>-22.02</td>\n",
              "      <td>-3.20</td>\n",
              "      <td>0.20</td>\n",
              "      <td>0.01</td>\n",
              "      <td>-0.30</td>\n",
              "      <td>1.84</td>\n",
              "      <td>...</td>\n",
              "      <td>41</td>\n",
              "      <td>O0911</td>\n",
              "      <td>NaN</td>\n",
              "      <td>NaN</td>\n",
              "      <td>NaN</td>\n",
              "      <td>NaN</td>\n",
              "      <td>2023-06-23</td>\n",
              "      <td>07-09-30.794000</td>\n",
              "      <td>NaN</td>\n",
              "      <td>1.687504e+09</td>\n",
              "    </tr>\n",
              "    <tr>\n",
              "      <th>3</th>\n",
              "      <td>4</td>\n",
              "      <td>-4.78</td>\n",
              "      <td>52.74</td>\n",
              "      <td>-5.34</td>\n",
              "      <td>-22.11</td>\n",
              "      <td>3.05</td>\n",
              "      <td>1.13</td>\n",
              "      <td>-5.05</td>\n",
              "      <td>-1.77</td>\n",
              "      <td>6.95</td>\n",
              "      <td>...</td>\n",
              "      <td>41</td>\n",
              "      <td>O0911</td>\n",
              "      <td>NaN</td>\n",
              "      <td>NaN</td>\n",
              "      <td>NaN</td>\n",
              "      <td>NaN</td>\n",
              "      <td>2023-06-23</td>\n",
              "      <td>07-09-30.857000</td>\n",
              "      <td>NaN</td>\n",
              "      <td>1.687504e+09</td>\n",
              "    </tr>\n",
              "    <tr>\n",
              "      <th>4</th>\n",
              "      <td>5</td>\n",
              "      <td>-9.12</td>\n",
              "      <td>52.02</td>\n",
              "      <td>-5.07</td>\n",
              "      <td>-22.35</td>\n",
              "      <td>3.90</td>\n",
              "      <td>2.95</td>\n",
              "      <td>-10.19</td>\n",
              "      <td>-4.77</td>\n",
              "      <td>12.25</td>\n",
              "      <td>...</td>\n",
              "      <td>41</td>\n",
              "      <td>O0911</td>\n",
              "      <td>NaN</td>\n",
              "      <td>NaN</td>\n",
              "      <td>NaN</td>\n",
              "      <td>NaN</td>\n",
              "      <td>2023-06-23</td>\n",
              "      <td>07-09-30.920000</td>\n",
              "      <td>NaN</td>\n",
              "      <td>1.687504e+09</td>\n",
              "    </tr>\n",
              "  </tbody>\n",
              "</table>\n",
              "<p>5 rows × 24 columns</p>\n",
              "</div>\n",
              "    <div class=\"colab-df-buttons\">\n",
              "\n",
              "  <div class=\"colab-df-container\">\n",
              "    <button class=\"colab-df-convert\" onclick=\"convertToInteractive('df-b5c6eb44-567b-4645-b3a9-3f215cf0fbcb')\"\n",
              "            title=\"Convert this dataframe to an interactive table.\"\n",
              "            style=\"display:none;\">\n",
              "\n",
              "  <svg xmlns=\"http://www.w3.org/2000/svg\" height=\"24px\" viewBox=\"0 -960 960 960\">\n",
              "    <path d=\"M120-120v-720h720v720H120Zm60-500h600v-160H180v160Zm220 220h160v-160H400v160Zm0 220h160v-160H400v160ZM180-400h160v-160H180v160Zm440 0h160v-160H620v160ZM180-180h160v-160H180v160Zm440 0h160v-160H620v160Z\"/>\n",
              "  </svg>\n",
              "    </button>\n",
              "\n",
              "  <style>\n",
              "    .colab-df-container {\n",
              "      display:flex;\n",
              "      gap: 12px;\n",
              "    }\n",
              "\n",
              "    .colab-df-convert {\n",
              "      background-color: #E8F0FE;\n",
              "      border: none;\n",
              "      border-radius: 50%;\n",
              "      cursor: pointer;\n",
              "      display: none;\n",
              "      fill: #1967D2;\n",
              "      height: 32px;\n",
              "      padding: 0 0 0 0;\n",
              "      width: 32px;\n",
              "    }\n",
              "\n",
              "    .colab-df-convert:hover {\n",
              "      background-color: #E2EBFA;\n",
              "      box-shadow: 0px 1px 2px rgba(60, 64, 67, 0.3), 0px 1px 3px 1px rgba(60, 64, 67, 0.15);\n",
              "      fill: #174EA6;\n",
              "    }\n",
              "\n",
              "    .colab-df-buttons div {\n",
              "      margin-bottom: 4px;\n",
              "    }\n",
              "\n",
              "    [theme=dark] .colab-df-convert {\n",
              "      background-color: #3B4455;\n",
              "      fill: #D2E3FC;\n",
              "    }\n",
              "\n",
              "    [theme=dark] .colab-df-convert:hover {\n",
              "      background-color: #434B5C;\n",
              "      box-shadow: 0px 1px 3px 1px rgba(0, 0, 0, 0.15);\n",
              "      filter: drop-shadow(0px 1px 2px rgba(0, 0, 0, 0.3));\n",
              "      fill: #FFFFFF;\n",
              "    }\n",
              "  </style>\n",
              "\n",
              "    <script>\n",
              "      const buttonEl =\n",
              "        document.querySelector('#df-b5c6eb44-567b-4645-b3a9-3f215cf0fbcb button.colab-df-convert');\n",
              "      buttonEl.style.display =\n",
              "        google.colab.kernel.accessAllowed ? 'block' : 'none';\n",
              "\n",
              "      async function convertToInteractive(key) {\n",
              "        const element = document.querySelector('#df-b5c6eb44-567b-4645-b3a9-3f215cf0fbcb');\n",
              "        const dataTable =\n",
              "          await google.colab.kernel.invokeFunction('convertToInteractive',\n",
              "                                                    [key], {});\n",
              "        if (!dataTable) return;\n",
              "\n",
              "        const docLinkHtml = 'Like what you see? Visit the ' +\n",
              "          '<a target=\"_blank\" href=https://colab.research.google.com/notebooks/data_table.ipynb>data table notebook</a>'\n",
              "          + ' to learn more about interactive tables.';\n",
              "        element.innerHTML = '';\n",
              "        dataTable['output_type'] = 'display_data';\n",
              "        await google.colab.output.renderOutput(dataTable, element);\n",
              "        const docLink = document.createElement('div');\n",
              "        docLink.innerHTML = docLinkHtml;\n",
              "        element.appendChild(docLink);\n",
              "      }\n",
              "    </script>\n",
              "  </div>\n",
              "\n",
              "\n",
              "<div id=\"df-c4ba04e8-eb3e-4928-a245-b570a89b15cd\">\n",
              "  <button class=\"colab-df-quickchart\" onclick=\"quickchart('df-c4ba04e8-eb3e-4928-a245-b570a89b15cd')\"\n",
              "            title=\"Suggest charts.\"\n",
              "            style=\"display:none;\">\n",
              "\n",
              "<svg xmlns=\"http://www.w3.org/2000/svg\" height=\"24px\"viewBox=\"0 0 24 24\"\n",
              "     width=\"24px\">\n",
              "    <g>\n",
              "        <path d=\"M19 3H5c-1.1 0-2 .9-2 2v14c0 1.1.9 2 2 2h14c1.1 0 2-.9 2-2V5c0-1.1-.9-2-2-2zM9 17H7v-7h2v7zm4 0h-2V7h2v10zm4 0h-2v-4h2v4z\"/>\n",
              "    </g>\n",
              "</svg>\n",
              "  </button>\n",
              "\n",
              "<style>\n",
              "  .colab-df-quickchart {\n",
              "      --bg-color: #E8F0FE;\n",
              "      --fill-color: #1967D2;\n",
              "      --hover-bg-color: #E2EBFA;\n",
              "      --hover-fill-color: #174EA6;\n",
              "      --disabled-fill-color: #AAA;\n",
              "      --disabled-bg-color: #DDD;\n",
              "  }\n",
              "\n",
              "  [theme=dark] .colab-df-quickchart {\n",
              "      --bg-color: #3B4455;\n",
              "      --fill-color: #D2E3FC;\n",
              "      --hover-bg-color: #434B5C;\n",
              "      --hover-fill-color: #FFFFFF;\n",
              "      --disabled-bg-color: #3B4455;\n",
              "      --disabled-fill-color: #666;\n",
              "  }\n",
              "\n",
              "  .colab-df-quickchart {\n",
              "    background-color: var(--bg-color);\n",
              "    border: none;\n",
              "    border-radius: 50%;\n",
              "    cursor: pointer;\n",
              "    display: none;\n",
              "    fill: var(--fill-color);\n",
              "    height: 32px;\n",
              "    padding: 0;\n",
              "    width: 32px;\n",
              "  }\n",
              "\n",
              "  .colab-df-quickchart:hover {\n",
              "    background-color: var(--hover-bg-color);\n",
              "    box-shadow: 0 1px 2px rgba(60, 64, 67, 0.3), 0 1px 3px 1px rgba(60, 64, 67, 0.15);\n",
              "    fill: var(--button-hover-fill-color);\n",
              "  }\n",
              "\n",
              "  .colab-df-quickchart-complete:disabled,\n",
              "  .colab-df-quickchart-complete:disabled:hover {\n",
              "    background-color: var(--disabled-bg-color);\n",
              "    fill: var(--disabled-fill-color);\n",
              "    box-shadow: none;\n",
              "  }\n",
              "\n",
              "  .colab-df-spinner {\n",
              "    border: 2px solid var(--fill-color);\n",
              "    border-color: transparent;\n",
              "    border-bottom-color: var(--fill-color);\n",
              "    animation:\n",
              "      spin 1s steps(1) infinite;\n",
              "  }\n",
              "\n",
              "  @keyframes spin {\n",
              "    0% {\n",
              "      border-color: transparent;\n",
              "      border-bottom-color: var(--fill-color);\n",
              "      border-left-color: var(--fill-color);\n",
              "    }\n",
              "    20% {\n",
              "      border-color: transparent;\n",
              "      border-left-color: var(--fill-color);\n",
              "      border-top-color: var(--fill-color);\n",
              "    }\n",
              "    30% {\n",
              "      border-color: transparent;\n",
              "      border-left-color: var(--fill-color);\n",
              "      border-top-color: var(--fill-color);\n",
              "      border-right-color: var(--fill-color);\n",
              "    }\n",
              "    40% {\n",
              "      border-color: transparent;\n",
              "      border-right-color: var(--fill-color);\n",
              "      border-top-color: var(--fill-color);\n",
              "    }\n",
              "    60% {\n",
              "      border-color: transparent;\n",
              "      border-right-color: var(--fill-color);\n",
              "    }\n",
              "    80% {\n",
              "      border-color: transparent;\n",
              "      border-right-color: var(--fill-color);\n",
              "      border-bottom-color: var(--fill-color);\n",
              "    }\n",
              "    90% {\n",
              "      border-color: transparent;\n",
              "      border-bottom-color: var(--fill-color);\n",
              "    }\n",
              "  }\n",
              "</style>\n",
              "\n",
              "  <script>\n",
              "    async function quickchart(key) {\n",
              "      const quickchartButtonEl =\n",
              "        document.querySelector('#' + key + ' button');\n",
              "      quickchartButtonEl.disabled = true;  // To prevent multiple clicks.\n",
              "      quickchartButtonEl.classList.add('colab-df-spinner');\n",
              "      try {\n",
              "        const charts = await google.colab.kernel.invokeFunction(\n",
              "            'suggestCharts', [key], {});\n",
              "      } catch (error) {\n",
              "        console.error('Error during call to suggestCharts:', error);\n",
              "      }\n",
              "      quickchartButtonEl.classList.remove('colab-df-spinner');\n",
              "      quickchartButtonEl.classList.add('colab-df-quickchart-complete');\n",
              "    }\n",
              "    (() => {\n",
              "      let quickchartButtonEl =\n",
              "        document.querySelector('#df-c4ba04e8-eb3e-4928-a245-b570a89b15cd button');\n",
              "      quickchartButtonEl.style.display =\n",
              "        google.colab.kernel.accessAllowed ? 'block' : 'none';\n",
              "    })();\n",
              "  </script>\n",
              "</div>\n",
              "    </div>\n",
              "  </div>\n"
            ]
          },
          "metadata": {},
          "execution_count": 16
        }
      ]
    },
    {
      "cell_type": "code",
      "source": [
        "data = formatted_data\n",
        "data.shape"
      ],
      "metadata": {
        "id": "8wv7tnMFZC7K",
        "colab": {
          "base_uri": "https://localhost:8080/"
        },
        "outputId": "0af2ca9d-dea0-4e80-aa99-afc78ce392b8"
      },
      "execution_count": 17,
      "outputs": [
        {
          "output_type": "execute_result",
          "data": {
            "text/plain": [
              "(3959302, 24)"
            ]
          },
          "metadata": {},
          "execution_count": 17
        }
      ]
    },
    {
      "cell_type": "code",
      "source": [
        "# Extract 'Current J1' and 'Position J1' columns\n",
        "current_j1 = data['Current J1']\n",
        "position_j1 = data['Position J1']\n",
        "\n",
        "# Calculate the number of data points and create a time array\n",
        "num_data_points = len(current_j1)\n",
        "time = np.arange(num_data_points)\n",
        "\n",
        "# Perform Fourier Transform on 'Current J1' and 'Position J1' columns\n",
        "current_j1_fft = np.fft.fft(current_j1)\n",
        "position_j1_fft = np.fft.fft(position_j1)\n",
        "\n",
        "# Calculate the corresponding frequencies\n",
        "frequencies = np.fft.fftfreq(num_data_points)\n",
        "\n",
        "# Plot the Fourier Transform for 'Current J1'\n",
        "plt.figure(figsize=(12, 6))\n",
        "plt.subplot(2, 1, 1)\n",
        "plt.plot(frequencies, np.abs(current_j1_fft))\n",
        "plt.title('Fourier Transform of Current J1')\n",
        "plt.xlabel('Frequency (Hz)')\n",
        "plt.ylabel('Amplitude')\n",
        "plt.grid(True)\n",
        "\n",
        "# Plot the Fourier Transform for 'Position J1'\n",
        "plt.subplot(2, 1, 2)\n",
        "plt.plot(frequencies, np.abs(position_j1_fft))\n",
        "plt.title('Fourier Transform of Position J1')\n",
        "plt.xlabel('Frequency (Hz)')\n",
        "plt.ylabel('Amplitude')\n",
        "plt.grid(True)\n",
        "\n",
        "# Show the plots\n",
        "plt.tight_layout()\n",
        "plt.show()\n"
      ],
      "metadata": {
        "colab": {
          "base_uri": "https://localhost:8080/",
          "height": 642
        },
        "id": "EjIn1wmA5tNe",
        "outputId": "69240cab-7e64-457b-c719-22445caff44b"
      },
      "execution_count": 18,
      "outputs": [
        {
          "output_type": "execute_result",
          "data": {
            "text/plain": [
              "<Figure size 1200x600 with 0 Axes>"
            ]
          },
          "metadata": {},
          "execution_count": 18
        },
        {
          "output_type": "execute_result",
          "data": {
            "text/plain": [
              "<Axes: >"
            ]
          },
          "metadata": {},
          "execution_count": 18
        },
        {
          "output_type": "execute_result",
          "data": {
            "text/plain": [
              "[<matplotlib.lines.Line2D at 0x7bddf4050790>]"
            ]
          },
          "metadata": {},
          "execution_count": 18
        },
        {
          "output_type": "execute_result",
          "data": {
            "text/plain": [
              "Text(0.5, 1.0, 'Fourier Transform of Current J1')"
            ]
          },
          "metadata": {},
          "execution_count": 18
        },
        {
          "output_type": "execute_result",
          "data": {
            "text/plain": [
              "Text(0.5, 0, 'Frequency (Hz)')"
            ]
          },
          "metadata": {},
          "execution_count": 18
        },
        {
          "output_type": "execute_result",
          "data": {
            "text/plain": [
              "Text(0, 0.5, 'Amplitude')"
            ]
          },
          "metadata": {},
          "execution_count": 18
        },
        {
          "output_type": "execute_result",
          "data": {
            "text/plain": [
              "<Axes: >"
            ]
          },
          "metadata": {},
          "execution_count": 18
        },
        {
          "output_type": "execute_result",
          "data": {
            "text/plain": [
              "[<matplotlib.lines.Line2D at 0x7bddf4085660>]"
            ]
          },
          "metadata": {},
          "execution_count": 18
        },
        {
          "output_type": "execute_result",
          "data": {
            "text/plain": [
              "Text(0.5, 1.0, 'Fourier Transform of Position J1')"
            ]
          },
          "metadata": {},
          "execution_count": 18
        },
        {
          "output_type": "execute_result",
          "data": {
            "text/plain": [
              "Text(0.5, 0, 'Frequency (Hz)')"
            ]
          },
          "metadata": {},
          "execution_count": 18
        },
        {
          "output_type": "execute_result",
          "data": {
            "text/plain": [
              "Text(0, 0.5, 'Amplitude')"
            ]
          },
          "metadata": {},
          "execution_count": 18
        },
        {
          "output_type": "display_data",
          "data": {
            "text/plain": [
              "<Figure size 1200x600 with 2 Axes>"
            ],
            "image/png": "[encoded data removed]"
          },
          "metadata": {}
        }
      ]
    },
    {
      "cell_type": "code",
      "source": [
        "from scipy.signal import find_peaks"
      ],
      "metadata": {
        "id": "GERVAmPq7QbA"
      },
      "execution_count": 19,
      "outputs": []
    },
    {
      "cell_type": "code",
      "source": [
        "# Find peaks in the magnitude spectrum\n",
        "current_j1_peaks, _ = find_peaks(np.abs(current_j1_fft))"
      ],
      "metadata": {
        "id": "oDENfQ5siEDg"
      },
      "execution_count": 20,
      "outputs": []
    },
    {
      "cell_type": "code",
      "source": [
        "# Plot peaks on the FFT plots\n",
        "plt.subplot(3, 1, 3)\n",
        "plt.plot(frequencies, np.abs(current_j1_fft))\n",
        "plt.plot(frequencies[current_j1_peaks], np.abs(current_j1_fft[current_j1_peaks]), 'ro', label='Peaks (Current J1)')\n",
        "plt.title('Peaks in FFT')\n",
        "plt.xlabel('Frequency (Hz)')\n",
        "plt.ylabel('Amplitude')\n",
        "plt.legend()\n",
        "plt.grid(True)\n",
        "\n",
        "# Show the plots\n",
        "plt.tight_layout()\n",
        "plt.show()\n"
      ],
      "metadata": {
        "colab": {
          "base_uri": "https://localhost:8080/",
          "height": 248
        },
        "id": "X5cXEo-wiEGT",
        "outputId": "60d0f70a-18cb-4e41-ef0a-828fe6c56160"
      },
      "execution_count": 22,
      "outputs": [
        {
          "output_type": "execute_result",
          "data": {
            "text/plain": [
              "<Axes: >"
            ]
          },
          "metadata": {},
          "execution_count": 22
        },
        {
          "output_type": "execute_result",
          "data": {
            "text/plain": [
              "[<matplotlib.lines.Line2D at 0x7bdde4e33df0>]"
            ]
          },
          "metadata": {},
          "execution_count": 22
        },
        {
          "output_type": "execute_result",
          "data": {
            "text/plain": [
              "[<matplotlib.lines.Line2D at 0x7bdde4e82bc0>]"
            ]
          },
          "metadata": {},
          "execution_count": 22
        },
        {
          "output_type": "execute_result",
          "data": {
            "text/plain": [
              "Text(0.5, 1.0, 'Peaks in FFT')"
            ]
          },
          "metadata": {},
          "execution_count": 22
        },
        {
          "output_type": "execute_result",
          "data": {
            "text/plain": [
              "Text(0.5, 0, 'Frequency (Hz)')"
            ]
          },
          "metadata": {},
          "execution_count": 22
        },
        {
          "output_type": "execute_result",
          "data": {
            "text/plain": [
              "Text(0, 0.5, 'Amplitude')"
            ]
          },
          "metadata": {},
          "execution_count": 22
        },
        {
          "output_type": "execute_result",
          "data": {
            "text/plain": [
              "<matplotlib.legend.Legend at 0x7bdde4e6fee0>"
            ]
          },
          "metadata": {},
          "execution_count": 22
        },
        {
          "output_type": "display_data",
          "data": {
            "text/plain": [
              "<Figure size 640x480 with 1 Axes>"
            ],
            "image/png": "[encoded data removed]"
          },
          "metadata": {}
        }
      ]
    },
    {
      "cell_type": "code",
      "source": [
        "# Find and print dominant frequencies\n",
        "dominant_freq_current_j1 = frequencies[current_j1_peaks[np.argmax(np.abs(current_j1_fft[current_j1_peaks]))]]\n",
        "dominant_freq_position_j1 = frequencies[position_j1_peaks[np.argmax(np.abs(position_j1_fft[position_j1_peaks]))]]\n",
        "\n",
        "print(\"Dominant Frequency (Current J1):\", dominant_freq_current_j1, \"Hz\")\n",
        "print(\"Dominant Frequency (Position J1):\", dominant_freq_position_j1, \"Hz\")"
      ],
      "metadata": {
        "colab": {
          "base_uri": "https://localhost:8080/"
        },
        "id": "XGD9etbRiEKA",
        "outputId": "96731c4c-2f99-4776-d8a1-784b6a63bb0a"
      },
      "execution_count": 23,
      "outputs": [
        {
          "output_type": "stream",
          "name": "stdout",
          "text": [
            "Dominant Frequency (Current J1): -0.0011219149233880114 Hz\n",
            "Dominant Frequency (Position J1): -0.0022438298467760227 Hz\n"
          ]
        }
      ]
    },
    {
      "cell_type": "code",
      "source": [
        "# Convert negative frequencies to positive and interpret in Hz\n",
        "nyquist_freq = 0.5  # Nyquist frequency for normalized FFT\n",
        "dominant_freq_current_j1 = frequencies[current_j1_peaks[np.argmax(np.abs(current_j1_fft[current_j1_peaks]))]]\n",
        "dominant_freq_position_j1 = frequencies[position_j1_peaks[np.argmax(np.abs(position_j1_fft[position_j1_peaks]))]]\n",
        "\n",
        "# Convert to positive frequencies in Hz\n",
        "dominant_freq_current_j1_hz = np.abs(dominant_freq_current_j1) * nyquist_freq\n",
        "dominant_freq_position_j1_hz = np.abs(dominant_freq_position_j1) * nyquist_freq\n",
        "\n",
        "print(\"Dominant Frequency (Current J1):\", dominant_freq_current_j1_hz, \"Hz\")\n",
        "print(\"Dominant Frequency (Position J1):\", dominant_freq_position_j1_hz, \"Hz\")\n"
      ],
      "metadata": {
        "colab": {
          "base_uri": "https://localhost:8080/"
        },
        "id": "kCyjYX7kjHGS",
        "outputId": "03b02b7b-0541-4952-b0da-2daa20f2e220"
      },
      "execution_count": 24,
      "outputs": [
        {
          "output_type": "stream",
          "name": "stdout",
          "text": [
            "Dominant Frequency (Current J1): 0.0005609574616940057 Hz\n",
            "Dominant Frequency (Position J1): 0.0011219149233880114 Hz\n"
          ]
        }
      ]
    },
    {
      "cell_type": "code",
      "source": [
        "# Calculate the phase spectrum\n",
        "phase_spectrum = np.angle(current_j1_fft)\n",
        "\n",
        "# Plot the phase spectrum\n",
        "plt.subplot(2, 1, 2)\n",
        "plt.plot(frequencies, phase_spectrum)\n",
        "plt.title('Phase Spectrum of Current J1')\n",
        "plt.xlabel('Frequency (Hz)')\n",
        "plt.ylabel('Phase (radians)')\n",
        "plt.grid(True)\n",
        "\n",
        "# Show the plots\n",
        "plt.tight_layout()\n",
        "plt.show()\n"
      ],
      "metadata": {
        "colab": {
          "base_uri": "https://localhost:8080/",
          "height": 304
        },
        "id": "74YEEzZmlo6j",
        "outputId": "0561bbb4-a4e2-4638-aae9-0ceeba74bb9d"
      },
      "execution_count": 31,
      "outputs": [
        {
          "output_type": "execute_result",
          "data": {
            "text/plain": [
              "<Axes: >"
            ]
          },
          "metadata": {},
          "execution_count": 31
        },
        {
          "output_type": "execute_result",
          "data": {
            "text/plain": [
              "[<matplotlib.lines.Line2D at 0x7bdddd0b3b50>]"
            ]
          },
          "metadata": {},
          "execution_count": 31
        },
        {
          "output_type": "execute_result",
          "data": {
            "text/plain": [
              "Text(0.5, 1.0, 'Phase Spectrum of Current J1')"
            ]
          },
          "metadata": {},
          "execution_count": 31
        },
        {
          "output_type": "execute_result",
          "data": {
            "text/plain": [
              "Text(0.5, 0, 'Frequency (Hz)')"
            ]
          },
          "metadata": {},
          "execution_count": 31
        },
        {
          "output_type": "execute_result",
          "data": {
            "text/plain": [
              "Text(0, 0.5, 'Phase (radians)')"
            ]
          },
          "metadata": {},
          "execution_count": 31
        },
        {
          "output_type": "display_data",
          "data": {
            "text/plain": [
              "<Figure size 640x480 with 1 Axes>"
            ],
            "image/png": "[encoded data removed]"
          },
          "metadata": {}
        }
      ]
    },
    {
      "cell_type": "code",
      "source": [
        "magnitude_spectrum = np.abs(current_j1_fft)\n",
        "peaks, _ = find_peaks(magnitude_spectrum, height=1000)  # Adjust the height threshold as needed\n",
        "plt.figure(figsize=(12, 6))\n",
        "plt.plot(frequencies, magnitude_spectrum)\n",
        "plt.title('FFT Magnitude vs. Frequency for Current J1')\n",
        "plt.xlabel('Frequency (Hz)')\n",
        "plt.ylabel('Magnitude')\n",
        "plt.grid(True)\n",
        "\n",
        "# Highlight the peaks\n",
        "plt.scatter(frequencies[peaks], magnitude_spectrum[peaks], color='red', marker='x', label='Harmonic Peaks')\n",
        "plt.legend()\n",
        "\n",
        "# Show the plot\n",
        "plt.show()\n"
      ],
      "metadata": {
        "colab": {
          "base_uri": "https://localhost:8080/",
          "height": 599
        },
        "id": "FKmnqLJO9MDP",
        "outputId": "81c891ca-4316-404c-f662-502d425fc5a6"
      },
      "execution_count": null,
      "outputs": [
        {
          "output_type": "execute_result",
          "data": {
            "text/plain": [
              "<Figure size 1200x600 with 0 Axes>"
            ]
          },
          "metadata": {},
          "execution_count": 11
        },
        {
          "output_type": "execute_result",
          "data": {
            "text/plain": [
              "[<matplotlib.lines.Line2D at 0x7a774020e9b0>]"
            ]
          },
          "metadata": {},
          "execution_count": 11
        },
        {
          "output_type": "execute_result",
          "data": {
            "text/plain": [
              "Text(0.5, 1.0, 'FFT Magnitude vs. Frequency for Current J1')"
            ]
          },
          "metadata": {},
          "execution_count": 11
        },
        {
          "output_type": "execute_result",
          "data": {
            "text/plain": [
              "Text(0.5, 0, 'Frequency (Hz)')"
            ]
          },
          "metadata": {},
          "execution_count": 11
        },
        {
          "output_type": "execute_result",
          "data": {
            "text/plain": [
              "Text(0, 0.5, 'Magnitude')"
            ]
          },
          "metadata": {},
          "execution_count": 11
        },
        {
          "output_type": "execute_result",
          "data": {
            "text/plain": [
              "<matplotlib.collections.PathCollection at 0x7a77401f0160>"
            ]
          },
          "metadata": {},
          "execution_count": 11
        },
        {
          "output_type": "execute_result",
          "data": {
            "text/plain": [
              "<matplotlib.legend.Legend at 0x7a774020ea10>"
            ]
          },
          "metadata": {},
          "execution_count": 11
        },
        {
          "output_type": "display_data",
          "data": {
            "text/plain": [
              "<Figure size 1200x600 with 1 Axes>"
            ],
            "image/png": "[encoded data removed]"
          },
          "metadata": {}
        }
      ]
    },
    {
      "cell_type": "markdown",
      "source": [
        "The amplitude at 0 Hz in the magnitude spectrum plot indicates how much of this DC component is present in our signal. If the amplitude at 0 Hz is high, it suggests that a significant portion of our signal is made up of a constant value.\n",
        "\n"
      ],
      "metadata": {
        "id": "AddPzb7vAk3l"
      }
    },
    {
      "cell_type": "code",
      "source": [
        "# Remove the DC offset by subtracting the mean value\n",
        "current_j1_without_dc = current_j1 - np.mean(current_j1)\n"
      ],
      "metadata": {
        "id": "jU-m-UU19Yy9"
      },
      "execution_count": null,
      "outputs": []
    },
    {
      "cell_type": "code",
      "source": [
        "num_data_points = len(current_j1_without_dc)\n",
        "current_j1_fft = np.fft.fft(current_j1_without_dc)\n",
        "frequencies = np.fft.fftfreq(num_data_points)\n",
        "magnitude_spectrum = np.abs(current_j1_fft)\n",
        "peaks, _ = find_peaks(magnitude_spectrum, height=1000)  # Adjust the height threshold as needed\n",
        "plt.figure(figsize=(12, 6))\n",
        "plt.plot(frequencies, magnitude_spectrum)\n",
        "plt.title('FFT Magnitude vs. Frequency for Current J1 (After Removing DC Offset)')\n",
        "plt.xlabel('Frequency (Hz)')\n",
        "plt.ylabel('Magnitude')\n",
        "plt.grid(True)\n",
        "\n",
        "# Highlight the peaks\n",
        "plt.scatter(frequencies[peaks], magnitude_spectrum[peaks], color='red', marker='x', label='Harmonic Peaks')\n",
        "plt.legend()\n",
        "\n",
        "# Show the plot\n",
        "plt.show()\n"
      ],
      "metadata": {
        "colab": {
          "base_uri": "https://localhost:8080/",
          "height": 599
        },
        "id": "bwxE1Nuj-_le",
        "outputId": "47f993fb-4c03-4e3e-e477-9ad4ac507237"
      },
      "execution_count": null,
      "outputs": [
        {
          "output_type": "execute_result",
          "data": {
            "text/plain": [
              "<Figure size 1200x600 with 0 Axes>"
            ]
          },
          "metadata": {},
          "execution_count": 13
        },
        {
          "output_type": "execute_result",
          "data": {
            "text/plain": [
              "[<matplotlib.lines.Line2D at 0x7a7740258850>]"
            ]
          },
          "metadata": {},
          "execution_count": 13
        },
        {
          "output_type": "execute_result",
          "data": {
            "text/plain": [
              "Text(0.5, 1.0, 'FFT Magnitude vs. Frequency for Current J1 (After Removing DC Offset)')"
            ]
          },
          "metadata": {},
          "execution_count": 13
        },
        {
          "output_type": "execute_result",
          "data": {
            "text/plain": [
              "Text(0.5, 0, 'Frequency (Hz)')"
            ]
          },
          "metadata": {},
          "execution_count": 13
        },
        {
          "output_type": "execute_result",
          "data": {
            "text/plain": [
              "Text(0, 0.5, 'Magnitude')"
            ]
          },
          "metadata": {},
          "execution_count": 13
        },
        {
          "output_type": "execute_result",
          "data": {
            "text/plain": [
              "<matplotlib.collections.PathCollection at 0x7a7740293280>"
            ]
          },
          "metadata": {},
          "execution_count": 13
        },
        {
          "output_type": "execute_result",
          "data": {
            "text/plain": [
              "<matplotlib.legend.Legend at 0x7a77401f1780>"
            ]
          },
          "metadata": {},
          "execution_count": 13
        },
        {
          "output_type": "display_data",
          "data": {
            "text/plain": [
              "<Figure size 1200x600 with 1 Axes>"
            ],
            "image/png": "[encoded data removed]"
          },
          "metadata": {}
        }
      ]
    },
    {
      "cell_type": "markdown",
      "source": [
        "Windowing: Apply different window functions (e.g., Hanning) before performing the FFT to reduce spectral leakage and improve frequency resolution, especially when analyzing short segments of data."
      ],
      "metadata": {
        "id": "y_LbJVekBySb"
      }
    },
    {
      "cell_type": "code",
      "source": [
        "from scipy.signal import find_peaks, hann\n",
        "\n",
        "current_j1 = data['Current J1']\n",
        "\n",
        "# Apply a Hanning window without removing the DC offset\n",
        "windowed_signal = current_j1 * hann(len(current_j1))\n",
        "\n",
        "# Perform Fourier Transform on the windowed signal\n",
        "num_data_points = len(windowed_signal)\n",
        "current_j1_fft = np.fft.fft(windowed_signal)\n",
        "frequencies = np.fft.fftfreq(num_data_points)\n",
        "\n",
        "# Calculate the magnitude of the Fourier Transform\n",
        "magnitude_spectrum = np.abs(current_j1_fft)\n",
        "\n",
        "# Find peaks in the magnitude spectrum to identify harmonic components\n",
        "peaks, _ = find_peaks(magnitude_spectrum, height=1000)  # Adjust the height threshold as needed\n",
        "\n",
        "# Plot the magnitude spectrum and highlight the identified peaks\n",
        "plt.figure(figsize=(12, 6))\n",
        "plt.plot(frequencies, magnitude_spectrum)\n",
        "plt.title('FFT Magnitude vs. Frequency for Current J1 (After Applying Hanning Window, with DC Offset)')\n",
        "plt.xlabel('Frequency (Hz)')\n",
        "plt.ylabel('Magnitude')\n",
        "plt.grid(True)\n",
        "\n",
        "# Highlight the peaks\n",
        "plt.scatter(frequencies[peaks], magnitude_spectrum[peaks], color='red', marker='x', label='Harmonic Peaks')\n",
        "plt.legend()\n",
        "\n",
        "# Show the plot\n",
        "plt.show()\n"
      ],
      "metadata": {
        "colab": {
          "base_uri": "https://localhost:8080/",
          "height": 653
        },
        "id": "fgNk_3XZ_VIZ",
        "outputId": "347bcab2-8562-4cfc-d02e-2a99812ef281"
      },
      "execution_count": null,
      "outputs": [
        {
          "output_type": "stream",
          "name": "stderr",
          "text": [
            "<ipython-input-14-75d470e4a49a>:6: DeprecationWarning: Importing hann from 'scipy.signal' is deprecated and will raise an error in SciPy 1.13.0. Please use 'scipy.signal.windows.hann' or the convenience function 'scipy.signal.get_window' instead.\n",
            "  windowed_signal = current_j1 * hann(len(current_j1))\n"
          ]
        },
        {
          "output_type": "execute_result",
          "data": {
            "text/plain": [
              "<Figure size 1200x600 with 0 Axes>"
            ]
          },
          "metadata": {},
          "execution_count": 14
        },
        {
          "output_type": "execute_result",
          "data": {
            "text/plain": [
              "[<matplotlib.lines.Line2D at 0x7a772d856f80>]"
            ]
          },
          "metadata": {},
          "execution_count": 14
        },
        {
          "output_type": "execute_result",
          "data": {
            "text/plain": [
              "Text(0.5, 1.0, 'FFT Magnitude vs. Frequency for Current J1 (After Applying Hanning Window, with DC Offset)')"
            ]
          },
          "metadata": {},
          "execution_count": 14
        },
        {
          "output_type": "execute_result",
          "data": {
            "text/plain": [
              "Text(0.5, 0, 'Frequency (Hz)')"
            ]
          },
          "metadata": {},
          "execution_count": 14
        },
        {
          "output_type": "execute_result",
          "data": {
            "text/plain": [
              "Text(0, 0.5, 'Magnitude')"
            ]
          },
          "metadata": {},
          "execution_count": 14
        },
        {
          "output_type": "execute_result",
          "data": {
            "text/plain": [
              "<matplotlib.collections.PathCollection at 0x7a77401f1210>"
            ]
          },
          "metadata": {},
          "execution_count": 14
        },
        {
          "output_type": "execute_result",
          "data": {
            "text/plain": [
              "<matplotlib.legend.Legend at 0x7a77401f10c0>"
            ]
          },
          "metadata": {},
          "execution_count": 14
        },
        {
          "output_type": "display_data",
          "data": {
            "text/plain": [
              "<Figure size 1200x600 with 1 Axes>"
            ],
            "image/png": "[encoded data removed]"
          },
          "metadata": {}
        }
      ]
    }
  ]
}