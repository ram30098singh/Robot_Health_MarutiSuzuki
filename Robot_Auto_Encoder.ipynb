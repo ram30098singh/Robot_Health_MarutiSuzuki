{
  "cells": [
    {
      "cell_type": "markdown",
      "metadata": {
        "id": "view-in-github",
        "colab_type": "text"
      },
      "source": [
        "<a href=\"https://colab.research.google.com/github/ram30098singh/Robot_Health_MarutiSuzuki/blob/main/Robot_Auto_Encoder.ipynb\" target=\"_parent\"><img src=\"https://colab.research.google.com/assets/colab-badge.svg\" alt=\"Open In Colab\"/></a>"
      ]
    },
    {
      "cell_type": "markdown",
      "source": [
        "## Auto Encoder and Clustering"
      ],
      "metadata": {
        "id": "VVmMRTmmM3Mf"
      }
    },
    {
      "cell_type": "code",
      "execution_count": 1,
      "metadata": {
        "id": "1OzvFe-mpHnn"
      },
      "outputs": [],
      "source": [
        "import numpy as np\n",
        "from scipy.fft import fft\n",
        "import pandas as pd\n",
        "import matplotlib.pyplot as plt\n",
        "import tensorflow as tf\n",
        "from tensorflow import keras\n",
        "from sklearn.model_selection import train_test_split\n",
        "from pathlib import Path"
      ]
    },
    {
      "cell_type": "code",
      "execution_count": 2,
      "metadata": {
        "colab": {
          "base_uri": "https://localhost:8080/"
        },
        "id": "KZXLfw6zrmqF",
        "outputId": "c05c6a2a-f747-45af-a7cc-e5d4b1b6e992"
      },
      "outputs": [
        {
          "output_type": "stream",
          "name": "stdout",
          "text": [
            "Mounted at /gdrive\n"
          ]
        }
      ],
      "source": [
        "from google.colab import drive\n",
        "drive.mount('/gdrive')"
      ]
    },
    {
      "cell_type": "code",
      "execution_count": 3,
      "metadata": {
        "id": "qORs9wG2rwE0"
      },
      "outputs": [],
      "source": [
        "from IPython.core.interactiveshell import InteractiveShell\n",
        "InteractiveShell.ast_node_interactivity = \"all\""
      ]
    },
    {
      "cell_type": "code",
      "execution_count": 4,
      "metadata": {
        "id": "FitmbB91sLAM"
      },
      "outputs": [],
      "source": [
        "pathToFolder = \"/gdrive/My Drive/RAC_Maruti\""
      ]
    },
    {
      "cell_type": "code",
      "execution_count": 5,
      "metadata": {
        "id": "Tg74AWRGsNHP"
      },
      "outputs": [],
      "source": [
        "path = Path(pathToFolder) / \"formatted_data.csv\""
      ]
    },
    {
      "cell_type": "code",
      "execution_count": 6,
      "metadata": {
        "colab": {
          "base_uri": "https://localhost:8080/",
          "height": 429
        },
        "id": "2njspFhQsPN2",
        "outputId": "feaf84c4-6547-4431-d68c-bb526e6528e6"
      },
      "outputs": [
        {
          "output_type": "stream",
          "name": "stderr",
          "text": [
            "<ipython-input-6-267b3f56332a>:1: DtypeWarning: Columns (17,19,22) have mixed types. Specify dtype option on import or set low_memory=False.\n",
            "  formatted_data = pd.read_csv(path)\n"
          ]
        },
        {
          "output_type": "execute_result",
          "data": {
            "text/plain": [
              "   SNo  Current J1  Position J1  Current J2  Position J2  Current J3  \\\n",
              "0    1       -1.18        53.00        1.32       -22.00       -0.08   \n",
              "1    3       -1.88        52.95       -0.49       -22.02       -3.20   \n",
              "2    2       -1.88        52.95       -0.49       -22.02       -3.20   \n",
              "3    4       -4.78        52.74       -5.34       -22.11        3.05   \n",
              "4    5       -9.12        52.02       -5.07       -22.35        3.90   \n",
              "\n",
              "   Position J3  Current J4  Position J4  Current J5  ...  Program Register  \\\n",
              "0         0.01        0.05        -0.01        0.12  ...                41   \n",
              "1         0.20        0.01        -0.30        1.84  ...                41   \n",
              "2         0.20        0.01        -0.30        1.84  ...                41   \n",
              "3         1.13       -5.05        -1.77        6.95  ...                41   \n",
              "4         2.95      -10.19        -4.77       12.25  ...                41   \n",
              "\n",
              "   Program Name  Program Line Number Robot Fault Output  Alarm  \\\n",
              "0         O0911                  NaN                NaN    NaN   \n",
              "1         O0911                  NaN                NaN    NaN   \n",
              "2         O0911                  NaN                NaN    NaN   \n",
              "3         O0911                  NaN                NaN    NaN   \n",
              "4         O0911                  NaN                NaN    NaN   \n",
              "\n",
              "  Battery Low Level Output        Date        TimeStamp  Quality  \\\n",
              "0                      NaN  2023-06-23  07-09-30.744000      NaN   \n",
              "1                      NaN  2023-06-23  07-09-30.794000      NaN   \n",
              "2                      NaN  2023-06-23  07-09-30.794000      NaN   \n",
              "3                      NaN  2023-06-23  07-09-30.857000      NaN   \n",
              "4                      NaN  2023-06-23  07-09-30.920000      NaN   \n",
              "\n",
              "  record_timestamp  \n",
              "0     1.687504e+09  \n",
              "1     1.687504e+09  \n",
              "2     1.687504e+09  \n",
              "3     1.687504e+09  \n",
              "4     1.687504e+09  \n",
              "\n",
              "[5 rows x 24 columns]"
            ],
            "text/html": [
              "\n",
              "  <div id=\"df-a98a5f23-e4b9-4e6d-89ca-d5cb04888e1f\" class=\"colab-df-container\">\n",
              "    <div>\n",
              "<style scoped>\n",
              "    .dataframe tbody tr th:only-of-type {\n",
              "        vertical-align: middle;\n",
              "    }\n",
              "\n",
              "    .dataframe tbody tr th {\n",
              "        vertical-align: top;\n",
              "    }\n",
              "\n",
              "    .dataframe thead th {\n",
              "        text-align: right;\n",
              "    }\n",
              "</style>\n",
              "<table border=\"1\" class=\"dataframe\">\n",
              "  <thead>\n",
              "    <tr style=\"text-align: right;\">\n",
              "      <th></th>\n",
              "      <th>SNo</th>\n",
              "      <th>Current J1</th>\n",
              "      <th>Position J1</th>\n",
              "      <th>Current J2</th>\n",
              "      <th>Position J2</th>\n",
              "      <th>Current J3</th>\n",
              "      <th>Position J3</th>\n",
              "      <th>Current J4</th>\n",
              "      <th>Position J4</th>\n",
              "      <th>Current J5</th>\n",
              "      <th>...</th>\n",
              "      <th>Program Register</th>\n",
              "      <th>Program Name</th>\n",
              "      <th>Program Line Number</th>\n",
              "      <th>Robot Fault Output</th>\n",
              "      <th>Alarm</th>\n",
              "      <th>Battery Low Level Output</th>\n",
              "      <th>Date</th>\n",
              "      <th>TimeStamp</th>\n",
              "      <th>Quality</th>\n",
              "      <th>record_timestamp</th>\n",
              "    </tr>\n",
              "  </thead>\n",
              "  <tbody>\n",
              "    <tr>\n",
              "      <th>0</th>\n",
              "      <td>1</td>\n",
              "      <td>-1.18</td>\n",
              "      <td>53.00</td>\n",
              "      <td>1.32</td>\n",
              "      <td>-22.00</td>\n",
              "      <td>-0.08</td>\n",
              "      <td>0.01</td>\n",
              "      <td>0.05</td>\n",
              "      <td>-0.01</td>\n",
              "      <td>0.12</td>\n",
              "      <td>...</td>\n",
              "      <td>41</td>\n",
              "      <td>O0911</td>\n",
              "      <td>NaN</td>\n",
              "      <td>NaN</td>\n",
              "      <td>NaN</td>\n",
              "      <td>NaN</td>\n",
              "      <td>2023-06-23</td>\n",
              "      <td>07-09-30.744000</td>\n",
              "      <td>NaN</td>\n",
              "      <td>1.687504e+09</td>\n",
              "    </tr>\n",
              "    <tr>\n",
              "      <th>1</th>\n",
              "      <td>3</td>\n",
              "      <td>-1.88</td>\n",
              "      <td>52.95</td>\n",
              "      <td>-0.49</td>\n",
              "      <td>-22.02</td>\n",
              "      <td>-3.20</td>\n",
              "      <td>0.20</td>\n",
              "      <td>0.01</td>\n",
              "      <td>-0.30</td>\n",
              "      <td>1.84</td>\n",
              "      <td>...</td>\n",
              "      <td>41</td>\n",
              "      <td>O0911</td>\n",
              "      <td>NaN</td>\n",
              "      <td>NaN</td>\n",
              "      <td>NaN</td>\n",
              "      <td>NaN</td>\n",
              "      <td>2023-06-23</td>\n",
              "      <td>07-09-30.794000</td>\n",
              "      <td>NaN</td>\n",
              "      <td>1.687504e+09</td>\n",
              "    </tr>\n",
              "    <tr>\n",
              "      <th>2</th>\n",
              "      <td>2</td>\n",
              "      <td>-1.88</td>\n",
              "      <td>52.95</td>\n",
              "      <td>-0.49</td>\n",
              "      <td>-22.02</td>\n",
              "      <td>-3.20</td>\n",
              "      <td>0.20</td>\n",
              "      <td>0.01</td>\n",
              "      <td>-0.30</td>\n",
              "      <td>1.84</td>\n",
              "      <td>...</td>\n",
              "      <td>41</td>\n",
              "      <td>O0911</td>\n",
              "      <td>NaN</td>\n",
              "      <td>NaN</td>\n",
              "      <td>NaN</td>\n",
              "      <td>NaN</td>\n",
              "      <td>2023-06-23</td>\n",
              "      <td>07-09-30.794000</td>\n",
              "      <td>NaN</td>\n",
              "      <td>1.687504e+09</td>\n",
              "    </tr>\n",
              "    <tr>\n",
              "      <th>3</th>\n",
              "      <td>4</td>\n",
              "      <td>-4.78</td>\n",
              "      <td>52.74</td>\n",
              "      <td>-5.34</td>\n",
              "      <td>-22.11</td>\n",
              "      <td>3.05</td>\n",
              "      <td>1.13</td>\n",
              "      <td>-5.05</td>\n",
              "      <td>-1.77</td>\n",
              "      <td>6.95</td>\n",
              "      <td>...</td>\n",
              "      <td>41</td>\n",
              "      <td>O0911</td>\n",
              "      <td>NaN</td>\n",
              "      <td>NaN</td>\n",
              "      <td>NaN</td>\n",
              "      <td>NaN</td>\n",
              "      <td>2023-06-23</td>\n",
              "      <td>07-09-30.857000</td>\n",
              "      <td>NaN</td>\n",
              "      <td>1.687504e+09</td>\n",
              "    </tr>\n",
              "    <tr>\n",
              "      <th>4</th>\n",
              "      <td>5</td>\n",
              "      <td>-9.12</td>\n",
              "      <td>52.02</td>\n",
              "      <td>-5.07</td>\n",
              "      <td>-22.35</td>\n",
              "      <td>3.90</td>\n",
              "      <td>2.95</td>\n",
              "      <td>-10.19</td>\n",
              "      <td>-4.77</td>\n",
              "      <td>12.25</td>\n",
              "      <td>...</td>\n",
              "      <td>41</td>\n",
              "      <td>O0911</td>\n",
              "      <td>NaN</td>\n",
              "      <td>NaN</td>\n",
              "      <td>NaN</td>\n",
              "      <td>NaN</td>\n",
              "      <td>2023-06-23</td>\n",
              "      <td>07-09-30.920000</td>\n",
              "      <td>NaN</td>\n",
              "      <td>1.687504e+09</td>\n",
              "    </tr>\n",
              "  </tbody>\n",
              "</table>\n",
              "<p>5 rows × 24 columns</p>\n",
              "</div>\n",
              "    <div class=\"colab-df-buttons\">\n",
              "\n",
              "  <div class=\"colab-df-container\">\n",
              "    <button class=\"colab-df-convert\" onclick=\"convertToInteractive('df-a98a5f23-e4b9-4e6d-89ca-d5cb04888e1f')\"\n",
              "            title=\"Convert this dataframe to an interactive table.\"\n",
              "            style=\"display:none;\">\n",
              "\n",
              "  <svg xmlns=\"http://www.w3.org/2000/svg\" height=\"24px\" viewBox=\"0 -960 960 960\">\n",
              "    <path d=\"M120-120v-720h720v720H120Zm60-500h600v-160H180v160Zm220 220h160v-160H400v160Zm0 220h160v-160H400v160ZM180-400h160v-160H180v160Zm440 0h160v-160H620v160ZM180-180h160v-160H180v160Zm440 0h160v-160H620v160Z\"/>\n",
              "  </svg>\n",
              "    </button>\n",
              "\n",
              "  <style>\n",
              "    .colab-df-container {\n",
              "      display:flex;\n",
              "      gap: 12px;\n",
              "    }\n",
              "\n",
              "    .colab-df-convert {\n",
              "      background-color: #E8F0FE;\n",
              "      border: none;\n",
              "      border-radius: 50%;\n",
              "      cursor: pointer;\n",
              "      display: none;\n",
              "      fill: #1967D2;\n",
              "      height: 32px;\n",
              "      padding: 0 0 0 0;\n",
              "      width: 32px;\n",
              "    }\n",
              "\n",
              "    .colab-df-convert:hover {\n",
              "      background-color: #E2EBFA;\n",
              "      box-shadow: 0px 1px 2px rgba(60, 64, 67, 0.3), 0px 1px 3px 1px rgba(60, 64, 67, 0.15);\n",
              "      fill: #174EA6;\n",
              "    }\n",
              "\n",
              "    .colab-df-buttons div {\n",
              "      margin-bottom: 4px;\n",
              "    }\n",
              "\n",
              "    [theme=dark] .colab-df-convert {\n",
              "      background-color: #3B4455;\n",
              "      fill: #D2E3FC;\n",
              "    }\n",
              "\n",
              "    [theme=dark] .colab-df-convert:hover {\n",
              "      background-color: #434B5C;\n",
              "      box-shadow: 0px 1px 3px 1px rgba(0, 0, 0, 0.15);\n",
              "      filter: drop-shadow(0px 1px 2px rgba(0, 0, 0, 0.3));\n",
              "      fill: #FFFFFF;\n",
              "    }\n",
              "  </style>\n",
              "\n",
              "    <script>\n",
              "      const buttonEl =\n",
              "        document.querySelector('#df-a98a5f23-e4b9-4e6d-89ca-d5cb04888e1f button.colab-df-convert');\n",
              "      buttonEl.style.display =\n",
              "        google.colab.kernel.accessAllowed ? 'block' : 'none';\n",
              "\n",
              "      async function convertToInteractive(key) {\n",
              "        const element = document.querySelector('#df-a98a5f23-e4b9-4e6d-89ca-d5cb04888e1f');\n",
              "        const dataTable =\n",
              "          await google.colab.kernel.invokeFunction('convertToInteractive',\n",
              "                                                    [key], {});\n",
              "        if (!dataTable) return;\n",
              "\n",
              "        const docLinkHtml = 'Like what you see? Visit the ' +\n",
              "          '<a target=\"_blank\" href=https://colab.research.google.com/notebooks/data_table.ipynb>data table notebook</a>'\n",
              "          + ' to learn more about interactive tables.';\n",
              "        element.innerHTML = '';\n",
              "        dataTable['output_type'] = 'display_data';\n",
              "        await google.colab.output.renderOutput(dataTable, element);\n",
              "        const docLink = document.createElement('div');\n",
              "        docLink.innerHTML = docLinkHtml;\n",
              "        element.appendChild(docLink);\n",
              "      }\n",
              "    </script>\n",
              "  </div>\n",
              "\n",
              "\n",
              "<div id=\"df-f26d465a-00d8-4608-a075-417e6eddfb2a\">\n",
              "  <button class=\"colab-df-quickchart\" onclick=\"quickchart('df-f26d465a-00d8-4608-a075-417e6eddfb2a')\"\n",
              "            title=\"Suggest charts.\"\n",
              "            style=\"display:none;\">\n",
              "\n",
              "<svg xmlns=\"http://www.w3.org/2000/svg\" height=\"24px\"viewBox=\"0 0 24 24\"\n",
              "     width=\"24px\">\n",
              "    <g>\n",
              "        <path d=\"M19 3H5c-1.1 0-2 .9-2 2v14c0 1.1.9 2 2 2h14c1.1 0 2-.9 2-2V5c0-1.1-.9-2-2-2zM9 17H7v-7h2v7zm4 0h-2V7h2v10zm4 0h-2v-4h2v4z\"/>\n",
              "    </g>\n",
              "</svg>\n",
              "  </button>\n",
              "\n",
              "<style>\n",
              "  .colab-df-quickchart {\n",
              "      --bg-color: #E8F0FE;\n",
              "      --fill-color: #1967D2;\n",
              "      --hover-bg-color: #E2EBFA;\n",
              "      --hover-fill-color: #174EA6;\n",
              "      --disabled-fill-color: #AAA;\n",
              "      --disabled-bg-color: #DDD;\n",
              "  }\n",
              "\n",
              "  [theme=dark] .colab-df-quickchart {\n",
              "      --bg-color: #3B4455;\n",
              "      --fill-color: #D2E3FC;\n",
              "      --hover-bg-color: #434B5C;\n",
              "      --hover-fill-color: #FFFFFF;\n",
              "      --disabled-bg-color: #3B4455;\n",
              "      --disabled-fill-color: #666;\n",
              "  }\n",
              "\n",
              "  .colab-df-quickchart {\n",
              "    background-color: var(--bg-color);\n",
              "    border: none;\n",
              "    border-radius: 50%;\n",
              "    cursor: pointer;\n",
              "    display: none;\n",
              "    fill: var(--fill-color);\n",
              "    height: 32px;\n",
              "    padding: 0;\n",
              "    width: 32px;\n",
              "  }\n",
              "\n",
              "  .colab-df-quickchart:hover {\n",
              "    background-color: var(--hover-bg-color);\n",
              "    box-shadow: 0 1px 2px rgba(60, 64, 67, 0.3), 0 1px 3px 1px rgba(60, 64, 67, 0.15);\n",
              "    fill: var(--button-hover-fill-color);\n",
              "  }\n",
              "\n",
              "  .colab-df-quickchart-complete:disabled,\n",
              "  .colab-df-quickchart-complete:disabled:hover {\n",
              "    background-color: var(--disabled-bg-color);\n",
              "    fill: var(--disabled-fill-color);\n",
              "    box-shadow: none;\n",
              "  }\n",
              "\n",
              "  .colab-df-spinner {\n",
              "    border: 2px solid var(--fill-color);\n",
              "    border-color: transparent;\n",
              "    border-bottom-color: var(--fill-color);\n",
              "    animation:\n",
              "      spin 1s steps(1) infinite;\n",
              "  }\n",
              "\n",
              "  @keyframes spin {\n",
              "    0% {\n",
              "      border-color: transparent;\n",
              "      border-bottom-color: var(--fill-color);\n",
              "      border-left-color: var(--fill-color);\n",
              "    }\n",
              "    20% {\n",
              "      border-color: transparent;\n",
              "      border-left-color: var(--fill-color);\n",
              "      border-top-color: var(--fill-color);\n",
              "    }\n",
              "    30% {\n",
              "      border-color: transparent;\n",
              "      border-left-color: var(--fill-color);\n",
              "      border-top-color: var(--fill-color);\n",
              "      border-right-color: var(--fill-color);\n",
              "    }\n",
              "    40% {\n",
              "      border-color: transparent;\n",
              "      border-right-color: var(--fill-color);\n",
              "      border-top-color: var(--fill-color);\n",
              "    }\n",
              "    60% {\n",
              "      border-color: transparent;\n",
              "      border-right-color: var(--fill-color);\n",
              "    }\n",
              "    80% {\n",
              "      border-color: transparent;\n",
              "      border-right-color: var(--fill-color);\n",
              "      border-bottom-color: var(--fill-color);\n",
              "    }\n",
              "    90% {\n",
              "      border-color: transparent;\n",
              "      border-bottom-color: var(--fill-color);\n",
              "    }\n",
              "  }\n",
              "</style>\n",
              "\n",
              "  <script>\n",
              "    async function quickchart(key) {\n",
              "      const quickchartButtonEl =\n",
              "        document.querySelector('#' + key + ' button');\n",
              "      quickchartButtonEl.disabled = true;  // To prevent multiple clicks.\n",
              "      quickchartButtonEl.classList.add('colab-df-spinner');\n",
              "      try {\n",
              "        const charts = await google.colab.kernel.invokeFunction(\n",
              "            'suggestCharts', [key], {});\n",
              "      } catch (error) {\n",
              "        console.error('Error during call to suggestCharts:', error);\n",
              "      }\n",
              "      quickchartButtonEl.classList.remove('colab-df-spinner');\n",
              "      quickchartButtonEl.classList.add('colab-df-quickchart-complete');\n",
              "    }\n",
              "    (() => {\n",
              "      let quickchartButtonEl =\n",
              "        document.querySelector('#df-f26d465a-00d8-4608-a075-417e6eddfb2a button');\n",
              "      quickchartButtonEl.style.display =\n",
              "        google.colab.kernel.accessAllowed ? 'block' : 'none';\n",
              "    })();\n",
              "  </script>\n",
              "</div>\n",
              "    </div>\n",
              "  </div>\n"
            ]
          },
          "metadata": {},
          "execution_count": 6
        }
      ],
      "source": [
        "formatted_data = pd.read_csv(path)\n",
        "formatted_data.head()"
      ]
    },
    {
      "cell_type": "code",
      "execution_count": 14,
      "metadata": {
        "id": "JplZK0gysReh"
      },
      "outputs": [],
      "source": [
        "data = formatted_data"
      ]
    },
    {
      "cell_type": "code",
      "source": [
        "# Select the \"Current J1\" column for analysis\n",
        "current_j1 = data['Current J1']"
      ],
      "metadata": {
        "id": "7ZzPy7t_x7lh"
      },
      "execution_count": 17,
      "outputs": []
    },
    {
      "cell_type": "code",
      "source": [
        "# Normalize the data\n",
        "\n",
        "from sklearn.preprocessing import MinMaxScaler\n",
        "\n",
        "scaler = MinMaxScaler()\n",
        "current_j1_normalized = scaler.fit_transform(current_j1.values.reshape(-1, 1))\n",
        "\n",
        "# Split the data into training and testing sets\n",
        "X_train, X_test = train_test_split(current_j1_normalized, test_size=0.2, random_state=42)"
      ],
      "metadata": {
        "id": "IcGfDbMQx7rj"
      },
      "execution_count": 19,
      "outputs": []
    },
    {
      "cell_type": "code",
      "source": [
        "# Define the autoencoder model\n",
        "input_dim = X_train.shape[1]\n",
        "encoding_dim = 16  # You can adjust this value based on your needs\n",
        "\n",
        "input_layer = keras.layers.Input(shape=(input_dim,))\n",
        "encoder = keras.layers.Dense(encoding_dim, activation=\"relu\")(input_layer)\n",
        "decoder = keras.layers.Dense(input_dim, activation=\"sigmoid\")(encoder)\n",
        "autoencoder = keras.models.Model(inputs=input_layer, outputs=decoder)"
      ],
      "metadata": {
        "id": "FT7qdkgix8ZB"
      },
      "execution_count": 21,
      "outputs": []
    },
    {
      "cell_type": "code",
      "source": [
        "# Compile the model\n",
        "autoencoder.compile(optimizer='adam', loss='mean_squared_error')\n",
        "\n",
        "# Train the autoencoder\n",
        "epochs = 50  # You can adjust the number of epochs\n",
        "batch_size = 256\n",
        "history = autoencoder.fit(X_train, X_train, epochs=epochs, batch_size=batch_size, shuffle=True, validation_data=(X_test, X_test))"
      ],
      "metadata": {
        "colab": {
          "base_uri": "https://localhost:8080/"
        },
        "id": "mLWK2nCdx8cZ",
        "outputId": "d93bd869-0869-436d-98a2-dc0f0d27dead"
      },
      "execution_count": 22,
      "outputs": [
        {
          "output_type": "stream",
          "name": "stdout",
          "text": [
            "Epoch 1/50\n",
            "12373/12373 [==============================] - 29s 2ms/step - loss: 3.9975e-04 - val_loss: 2.4727e-05\n",
            "Epoch 2/50\n",
            "12373/12373 [==============================] - 30s 2ms/step - loss: 2.4818e-05 - val_loss: 2.4765e-05\n",
            "Epoch 3/50\n",
            "12373/12373 [==============================] - 31s 2ms/step - loss: 2.4757e-05 - val_loss: 2.4469e-05\n",
            "Epoch 4/50\n",
            "12373/12373 [==============================] - 27s 2ms/step - loss: 2.4760e-05 - val_loss: 2.5122e-05\n",
            "Epoch 5/50\n",
            "12373/12373 [==============================] - 26s 2ms/step - loss: 2.4743e-05 - val_loss: 2.4491e-05\n",
            "Epoch 6/50\n",
            "12373/12373 [==============================] - 26s 2ms/step - loss: 2.4734e-05 - val_loss: 2.4564e-05\n",
            "Epoch 7/50\n",
            "12373/12373 [==============================] - 26s 2ms/step - loss: 2.4753e-05 - val_loss: 2.4403e-05\n",
            "Epoch 8/50\n",
            "12373/12373 [==============================] - 28s 2ms/step - loss: 2.4740e-05 - val_loss: 2.4427e-05\n",
            "Epoch 9/50\n",
            "12373/12373 [==============================] - 30s 2ms/step - loss: 2.4740e-05 - val_loss: 2.5042e-05\n",
            "Epoch 10/50\n",
            "12373/12373 [==============================] - 27s 2ms/step - loss: 2.4739e-05 - val_loss: 2.4509e-05\n",
            "Epoch 11/50\n",
            "12373/12373 [==============================] - 26s 2ms/step - loss: 2.4746e-05 - val_loss: 2.4422e-05\n",
            "Epoch 12/50\n",
            "12373/12373 [==============================] - 27s 2ms/step - loss: 2.4751e-05 - val_loss: 2.4488e-05\n",
            "Epoch 13/50\n",
            "12373/12373 [==============================] - 26s 2ms/step - loss: 2.4734e-05 - val_loss: 2.4428e-05\n",
            "Epoch 14/50\n",
            "12373/12373 [==============================] - 27s 2ms/step - loss: 2.4737e-05 - val_loss: 2.4406e-05\n",
            "Epoch 15/50\n",
            "12373/12373 [==============================] - 25s 2ms/step - loss: 2.4735e-05 - val_loss: 2.4564e-05\n",
            "Epoch 16/50\n",
            "12373/12373 [==============================] - 26s 2ms/step - loss: 2.4752e-05 - val_loss: 2.5152e-05\n",
            "Epoch 17/50\n",
            "12373/12373 [==============================] - 26s 2ms/step - loss: 2.4743e-05 - val_loss: 2.4496e-05\n",
            "Epoch 18/50\n",
            "12373/12373 [==============================] - 26s 2ms/step - loss: 2.4739e-05 - val_loss: 2.4583e-05\n",
            "Epoch 19/50\n",
            "12373/12373 [==============================] - 26s 2ms/step - loss: 2.4728e-05 - val_loss: 2.5352e-05\n",
            "Epoch 20/50\n",
            "12373/12373 [==============================] - 26s 2ms/step - loss: 2.4726e-05 - val_loss: 2.4608e-05\n",
            "Epoch 21/50\n",
            "12373/12373 [==============================] - 27s 2ms/step - loss: 2.4735e-05 - val_loss: 2.4405e-05\n",
            "Epoch 22/50\n",
            "12373/12373 [==============================] - 26s 2ms/step - loss: 2.4747e-05 - val_loss: 2.4425e-05\n",
            "Epoch 23/50\n",
            "12373/12373 [==============================] - 26s 2ms/step - loss: 2.4737e-05 - val_loss: 2.5160e-05\n",
            "Epoch 24/50\n",
            "12373/12373 [==============================] - 28s 2ms/step - loss: 2.4733e-05 - val_loss: 2.4414e-05\n",
            "Epoch 25/50\n",
            "12373/12373 [==============================] - 25s 2ms/step - loss: 2.4740e-05 - val_loss: 2.4420e-05\n",
            "Epoch 26/50\n",
            "12373/12373 [==============================] - 26s 2ms/step - loss: 2.4730e-05 - val_loss: 2.4637e-05\n",
            "Epoch 27/50\n",
            "12373/12373 [==============================] - 26s 2ms/step - loss: 2.4727e-05 - val_loss: 2.4544e-05\n",
            "Epoch 28/50\n",
            "12373/12373 [==============================] - 26s 2ms/step - loss: 2.4719e-05 - val_loss: 2.4478e-05\n",
            "Epoch 29/50\n",
            "12373/12373 [==============================] - 25s 2ms/step - loss: 2.4734e-05 - val_loss: 2.4760e-05\n",
            "Epoch 30/50\n",
            "12373/12373 [==============================] - 26s 2ms/step - loss: 2.4729e-05 - val_loss: 2.5044e-05\n",
            "Epoch 31/50\n",
            "12373/12373 [==============================] - 28s 2ms/step - loss: 2.4727e-05 - val_loss: 2.4823e-05\n",
            "Epoch 32/50\n",
            "12373/12373 [==============================] - 26s 2ms/step - loss: 2.4728e-05 - val_loss: 2.4644e-05\n",
            "Epoch 33/50\n",
            "12373/12373 [==============================] - 26s 2ms/step - loss: 2.4725e-05 - val_loss: 2.4399e-05\n",
            "Epoch 34/50\n",
            "12373/12373 [==============================] - 25s 2ms/step - loss: 2.4734e-05 - val_loss: 2.4460e-05\n",
            "Epoch 35/50\n",
            "12373/12373 [==============================] - 27s 2ms/step - loss: 2.4722e-05 - val_loss: 2.4516e-05\n",
            "Epoch 36/50\n",
            "12373/12373 [==============================] - 26s 2ms/step - loss: 2.4717e-05 - val_loss: 2.4430e-05\n",
            "Epoch 37/50\n",
            "12373/12373 [==============================] - 26s 2ms/step - loss: 2.4724e-05 - val_loss: 2.5804e-05\n",
            "Epoch 38/50\n",
            "12373/12373 [==============================] - 26s 2ms/step - loss: 2.4733e-05 - val_loss: 2.4878e-05\n",
            "Epoch 39/50\n",
            "12373/12373 [==============================] - 26s 2ms/step - loss: 2.4733e-05 - val_loss: 2.4602e-05\n",
            "Epoch 40/50\n",
            "12373/12373 [==============================] - 27s 2ms/step - loss: 2.4726e-05 - val_loss: 2.5198e-05\n",
            "Epoch 41/50\n",
            "12373/12373 [==============================] - 27s 2ms/step - loss: 2.4719e-05 - val_loss: 2.4443e-05\n",
            "Epoch 42/50\n",
            "12373/12373 [==============================] - 26s 2ms/step - loss: 2.4736e-05 - val_loss: 2.4409e-05\n",
            "Epoch 43/50\n",
            "12373/12373 [==============================] - 25s 2ms/step - loss: 2.4727e-05 - val_loss: 2.4488e-05\n",
            "Epoch 44/50\n",
            "12373/12373 [==============================] - 26s 2ms/step - loss: 2.4722e-05 - val_loss: 2.4551e-05\n",
            "Epoch 45/50\n",
            "12373/12373 [==============================] - 25s 2ms/step - loss: 2.4725e-05 - val_loss: 2.5471e-05\n",
            "Epoch 46/50\n",
            "12373/12373 [==============================] - 26s 2ms/step - loss: 2.4736e-05 - val_loss: 2.4615e-05\n",
            "Epoch 47/50\n",
            "12373/12373 [==============================] - 28s 2ms/step - loss: 2.4736e-05 - val_loss: 2.4880e-05\n",
            "Epoch 48/50\n",
            "12373/12373 [==============================] - 24s 2ms/step - loss: 2.4725e-05 - val_loss: 2.4454e-05\n",
            "Epoch 49/50\n",
            "12373/12373 [==============================] - 25s 2ms/step - loss: 2.4736e-05 - val_loss: 2.4468e-05\n",
            "Epoch 50/50\n",
            "12373/12373 [==============================] - 26s 2ms/step - loss: 2.4726e-05 - val_loss: 2.4428e-05\n"
          ]
        }
      ]
    },
    {
      "cell_type": "markdown",
      "source": [
        "### Accuracy Graph:\n",
        "This shows how the Mean Absolute Error (MAE) changes over epochs during training. This will help to understand how well the model is converging."
      ],
      "metadata": {
        "id": "iP7UXQGa6rRl"
      }
    },
    {
      "cell_type": "code",
      "source": [
        "# Plot the training and validation loss\n",
        "plt.plot(history.history['loss'], label='Training Loss')\n",
        "plt.plot(history.history['val_loss'], label='Validation Loss')\n",
        "plt.xlabel('Epochs')\n",
        "plt.ylabel('Loss')\n",
        "plt.legend()\n",
        "plt.show()"
      ],
      "metadata": {
        "colab": {
          "base_uri": "https://localhost:8080/",
          "height": 466
        },
        "id": "V-QqPQtUyS_l",
        "outputId": "d0d8859c-f72b-4c76-ab4b-e1a5a217f3ec"
      },
      "execution_count": 23,
      "outputs": [
        {
          "output_type": "execute_result",
          "data": {
            "text/plain": [
              "[<matplotlib.lines.Line2D at 0x7ec3614f0b20>]"
            ]
          },
          "metadata": {},
          "execution_count": 23
        },
        {
          "output_type": "execute_result",
          "data": {
            "text/plain": [
              "[<matplotlib.lines.Line2D at 0x7ec3614f0ee0>]"
            ]
          },
          "metadata": {},
          "execution_count": 23
        },
        {
          "output_type": "execute_result",
          "data": {
            "text/plain": [
              "Text(0.5, 0, 'Epochs')"
            ]
          },
          "metadata": {},
          "execution_count": 23
        },
        {
          "output_type": "execute_result",
          "data": {
            "text/plain": [
              "Text(0, 0.5, 'Loss')"
            ]
          },
          "metadata": {},
          "execution_count": 23
        },
        {
          "output_type": "execute_result",
          "data": {
            "text/plain": [
              "<matplotlib.legend.Legend at 0x7ec3742c76d0>"
            ]
          },
          "metadata": {},
          "execution_count": 23
        },
        {
          "output_type": "display_data",
          "data": {
            "text/plain": [
              "<Figure size 640x480 with 1 Axes>"
            ],
            "image/png": "[encoded data removed]"
          },
          "metadata": {}
        }
      ]
    },
    {
      "cell_type": "code",
      "source": [
        "# Evaluate the model\n",
        "encoded_data = keras.models.Model(inputs=input_layer, outputs=encoder).predict(X_test)\n",
        "decoded_data = autoencoder.predict(X_test)\n",
        "\n",
        "# Inverse transform the decoded data to the original scale\n",
        "decoded_data = scaler.inverse_transform(decoded_data)\n"
      ],
      "metadata": {
        "colab": {
          "base_uri": "https://localhost:8080/"
        },
        "id": "6fa_9qAyyTB0",
        "outputId": "6f4eb703-9ace-44f0-b99b-f1963722debf"
      },
      "execution_count": 25,
      "outputs": [
        {
          "output_type": "stream",
          "name": "stdout",
          "text": [
            "24746/24746 [==============================] - 34s 1ms/step\n",
            "24746/24746 [==============================] - 34s 1ms/step\n"
          ]
        }
      ]
    },
    {
      "cell_type": "code",
      "source": [
        "# Calculate the Mean Absolute Error (MAE) as a measure of accuracy\n",
        "mae = np.mean(np.abs(X_test - decoded_data))\n",
        "\n",
        "print(f'Mean Absolute Error (MAE): {mae}')"
      ],
      "metadata": {
        "colab": {
          "base_uri": "https://localhost:8080/"
        },
        "id": "nY7biG8ByTFd",
        "outputId": "c757c3a1-0052-42ba-a1a5-1d1772da8162"
      },
      "execution_count": 26,
      "outputs": [
        {
          "output_type": "stream",
          "name": "stdout",
          "text": [
            "Mean Absolute Error (MAE): 2.4714646945911247\n"
          ]
        }
      ]
    },
    {
      "cell_type": "markdown",
      "source": [
        "## Prediction vs. Ground Truth Scatter Plot:\n",
        "\n",
        "A \"Prediction vs. Ground Truth Scatter Plot\" in the context of the dataset means plotting the original \"Current J1\" data against the reconstructed (decoded) \"Current J1\" data produced by the autoencoder. This plot helps to visualize how well the autoencoder is able to reproduce the values of \"Current J1\" and whether there's a strong correlation between the original and decoded values.\n",
        "\n"
      ],
      "metadata": {
        "id": "hfS2nO187zIX"
      }
    },
    {
      "cell_type": "code",
      "source": [
        "import matplotlib.cm as cm\n",
        "\n",
        "# Define a threshold value (replace this with your actual threshold)\n",
        "threshold = 0.5\n",
        "\n",
        "# Create an array of values (e.g., 0 for 'red' and 1 for 'blue') based on the threshold condition\n",
        "colors = np.where(X_test > threshold, 1, 0)\n",
        "\n",
        "# Map the values to colors using a colormap (e.g., red for 0, blue for 1)\n",
        "colormap = cm.get_cmap('coolwarm')\n",
        "\n",
        "# Plot the scatter plot with specified colors\n",
        "plt.scatter(X_test, decoded_data, c=colors, cmap=colormap, s=5)\n",
        "plt.xlabel('Original \"Current J1\" Data')\n",
        "plt.ylabel('Decoded \"Current J1\" Data')\n",
        "plt.title('Prediction vs. Ground Truth Scatter Plot')\n",
        "plt.colorbar(label='Threshold Color Map')\n",
        "plt.show()\n"
      ],
      "metadata": {
        "colab": {
          "base_uri": "https://localhost:8080/",
          "height": 561
        },
        "id": "cFkVdYos6gLw",
        "outputId": "dca2a3c2-b0be-4877-da7e-cb733e260c76"
      },
      "execution_count": 41,
      "outputs": [
        {
          "output_type": "stream",
          "name": "stderr",
          "text": [
            "<ipython-input-41-ed7489ccd501>:10: MatplotlibDeprecationWarning: The get_cmap function was deprecated in Matplotlib 3.7 and will be removed two minor releases later. Use ``matplotlib.colormaps[name]`` or ``matplotlib.colormaps.get_cmap(obj)`` instead.\n",
            "  colormap = cm.get_cmap('coolwarm')\n"
          ]
        },
        {
          "output_type": "execute_result",
          "data": {
            "text/plain": [
              "<matplotlib.collections.PathCollection at 0x7ec3635498d0>"
            ]
          },
          "metadata": {},
          "execution_count": 41
        },
        {
          "output_type": "execute_result",
          "data": {
            "text/plain": [
              "Text(0.5, 0, 'Original \"Current J1\" Data')"
            ]
          },
          "metadata": {},
          "execution_count": 41
        },
        {
          "output_type": "execute_result",
          "data": {
            "text/plain": [
              "Text(0, 0.5, 'Decoded \"Current J1\" Data')"
            ]
          },
          "metadata": {},
          "execution_count": 41
        },
        {
          "output_type": "execute_result",
          "data": {
            "text/plain": [
              "Text(0.5, 1.0, 'Prediction vs. Ground Truth Scatter Plot')"
            ]
          },
          "metadata": {},
          "execution_count": 41
        },
        {
          "output_type": "execute_result",
          "data": {
            "text/plain": [
              "<matplotlib.colorbar.Colorbar at 0x7ec363413fa0>"
            ]
          },
          "metadata": {},
          "execution_count": 41
        },
        {
          "output_type": "display_data",
          "data": {
            "text/plain": [
              "<Figure size 640x480 with 2 Axes>"
            ],
            "image/png": "[encoded data removed]"
          },
          "metadata": {}
        }
      ]
    },
    {
      "cell_type": "markdown",
      "source": [
        "Each point on the scatter plot represents a data point from the dataset. If the autoencoder does a good job of reconstructing the data, we would expect to see a strong correlation where most points lie close to a diagonal line (the identity line). In other words, the closer the points are to this line, the better the autoencoder is at reproducing the original data.\n",
        "\n",
        "If the scatter plot shows a clear and strong linear relationship between the original and decoded data, it indicates that the autoencoder has successfully captured the underlying patterns in the \"Current J1\" data."
      ],
      "metadata": {
        "id": "sTVJbfl790SW"
      }
    },
    {
      "cell_type": "markdown",
      "source": [
        "### Histograms:\n",
        " Plot histograms of the original \"Current J1\" data and the reconstructed data to compare their distributions. This can help to understand how well the autoencoder captures the underlying patterns."
      ],
      "metadata": {
        "id": "aFLV0yWK6aE5"
      }
    },
    {
      "cell_type": "code",
      "source": [
        "plt.hist(X_test, bins=50, alpha=0.5, label='Original Data', color='blue')\n",
        "plt.hist(decoded_data, bins=50, alpha=0.5, label='Decoded Data', color='orange')\n",
        "plt.xlabel('Current J1 Value')\n",
        "plt.ylabel('Frequency')\n",
        "plt.legend()\n",
        "plt.show()"
      ],
      "metadata": {
        "colab": {
          "base_uri": "https://localhost:8080/",
          "height": 1000
        },
        "id": "-SbhyQCk4w1w",
        "outputId": "a81bfd87-4372-4cbc-f170-8f277d5bea03"
      },
      "execution_count": 28,
      "outputs": [
        {
          "output_type": "execute_result",
          "data": {
            "text/plain": [
              "(array([8.0000e+00, 2.1000e+01, 9.0000e+00, 1.0400e+02, 2.1200e+02,\n",
              "        6.9300e+02, 8.0900e+02, 1.5450e+03, 3.6260e+03, 6.8920e+03,\n",
              "        1.3936e+04, 1.4534e+04, 1.4074e+04, 2.8647e+04, 2.7783e+04,\n",
              "        2.2675e+04, 1.4258e+04, 1.4484e+04, 2.4905e+04, 4.3919e+04,\n",
              "        5.2689e+04, 5.9944e+04, 5.5827e+04, 6.4928e+04, 8.3057e+04,\n",
              "        8.3135e+04, 4.6995e+04, 2.9654e+04, 2.4116e+04, 2.0666e+04,\n",
              "        8.1950e+03, 6.1530e+03, 4.3300e+03, 4.4210e+03, 3.7530e+03,\n",
              "        2.9850e+03, 2.8320e+03, 1.2590e+03, 6.8700e+02, 3.7200e+02,\n",
              "        7.9600e+02, 4.6600e+02, 4.6400e+02, 4.6600e+02, 1.1200e+02,\n",
              "        7.8000e+01, 1.1200e+02, 1.4900e+02, 6.8000e+01, 1.8000e+01]),\n",
              " array([0.03172147, 0.05019729, 0.06867311, 0.08714894, 0.10562476,\n",
              "        0.12410058, 0.1425764 , 0.16105222, 0.17952805, 0.19800387,\n",
              "        0.21647969, 0.23495551, 0.25343133, 0.27190716, 0.29038298,\n",
              "        0.3088588 , 0.32733462, 0.34581044, 0.36428627, 0.38276209,\n",
              "        0.40123791, 0.41971373, 0.43818956, 0.45666538, 0.4751412 ,\n",
              "        0.49361702, 0.51209284, 0.53056867, 0.54904449, 0.56752031,\n",
              "        0.58599613, 0.60447195, 0.62294778, 0.6414236 , 0.65989942,\n",
              "        0.67837524, 0.69685106, 0.71532689, 0.73380271, 0.75227853,\n",
              "        0.77075435, 0.78923017, 0.807706  , 0.82618182, 0.84465764,\n",
              "        0.86313346, 0.88160928, 0.90008511, 0.91856093, 0.93703675,\n",
              "        0.95551257]),\n",
              " <BarContainer object of 50 artists>)"
            ]
          },
          "metadata": {},
          "execution_count": 28
        },
        {
          "output_type": "execute_result",
          "data": {
            "text/plain": [
              "(array([3.2000e+01, 3.6000e+01, 2.9200e+02, 8.8400e+02, 1.2380e+03,\n",
              "        3.3260e+03, 7.2160e+03, 1.3417e+04, 1.5029e+04, 1.3266e+04,\n",
              "        2.5204e+04, 2.6714e+04, 2.1311e+04, 1.5895e+04, 1.0812e+04,\n",
              "        1.3481e+04, 2.1826e+04, 3.3974e+04, 4.2362e+04, 4.3671e+04,\n",
              "        4.6267e+04, 4.2639e+04, 4.7467e+04, 5.9561e+04, 7.2257e+04,\n",
              "        5.6166e+04, 3.7698e+04, 2.4587e+04, 2.0457e+04, 1.8510e+04,\n",
              "        1.7224e+04, 7.5290e+03, 5.0180e+03, 4.6260e+03, 3.2960e+03,\n",
              "        3.8570e+03, 3.3030e+03, 2.7890e+03, 2.6540e+03, 1.7590e+03,\n",
              "        8.5500e+02, 4.2400e+02, 6.8300e+02, 6.9300e+02, 4.9500e+02,\n",
              "        5.5200e+02, 1.1700e+02, 1.4000e+02, 1.9600e+02, 5.6000e+01]),\n",
              " array([-9.67600536, -9.28702259, -8.89804077, -8.509058  , -8.12007618,\n",
              "        -7.73109388, -7.34211159, -6.95312929, -6.564147  , -6.1751647 ,\n",
              "        -5.7861824 , -5.39720011, -5.00821781, -4.61923504, -4.23025274,\n",
              "        -3.84127069, -3.45228839, -3.06330609, -2.6743238 , -2.28534126,\n",
              "        -1.89635909, -1.50737679, -1.11839437, -0.72941214, -0.34042981,\n",
              "         0.04855251,  0.43753484,  0.82651716,  1.2154994 ,  1.60448182,\n",
              "         1.99346411,  2.38244629,  2.77142882,  3.16041112,  3.54939342,\n",
              "         3.93837571,  4.32735777,  4.71634007,  5.10532284,  5.49430513,\n",
              "         5.88328743,  6.27226973,  6.66125202,  7.05023432,  7.43921661,\n",
              "         7.82819891,  8.21718121,  8.60616302,  8.9951458 ,  9.38412762,\n",
              "         9.77311039]),\n",
              " <BarContainer object of 50 artists>)"
            ]
          },
          "metadata": {},
          "execution_count": 28
        },
        {
          "output_type": "execute_result",
          "data": {
            "text/plain": [
              "Text(0.5, 0, 'Current J1 Value')"
            ]
          },
          "metadata": {},
          "execution_count": 28
        },
        {
          "output_type": "execute_result",
          "data": {
            "text/plain": [
              "Text(0, 0.5, 'Frequency')"
            ]
          },
          "metadata": {},
          "execution_count": 28
        },
        {
          "output_type": "execute_result",
          "data": {
            "text/plain": [
              "<matplotlib.legend.Legend at 0x7ec3705b4eb0>"
            ]
          },
          "metadata": {},
          "execution_count": 28
        },
        {
          "output_type": "display_data",
          "data": {
            "text/plain": [
              "<Figure size 640x480 with 1 Axes>"
            ],
            "image/png": "[encoded data removed]"
          },
          "metadata": {}
        }
      ]
    },
    {
      "cell_type": "markdown",
      "source": [
        "## Cluster Analysis"
      ],
      "metadata": {
        "id": "5GsCqtjcFYPT"
      }
    },
    {
      "cell_type": "code",
      "source": [
        "from sklearn.cluster import KMeans\n",
        "\n",
        "# Assuming you have already encoded your data into encoded_data\n",
        "\n",
        "# Define the number of clusters (you can adjust this based on your analysis)\n",
        "num_clusters = 3\n",
        "\n",
        "# Perform K-Means clustering on the encoded data\n",
        "kmeans = KMeans(n_clusters=num_clusters, random_state=42)\n",
        "cluster_labels = kmeans.fit_predict(encoded_data)\n",
        "\n",
        "# Visualize the clusters (assuming 2D encoding)\n",
        "plt.scatter(encoded_data[:, 0], encoded_data[:, 1], c=cluster_labels, cmap='viridis', s=20)\n",
        "plt.xlabel('Encoded Dimension 1')\n",
        "plt.ylabel('Encoded Dimension 2')\n",
        "plt.title('K-Means Clustering of Encoded Data')\n",
        "plt.colorbar(label='Cluster Label')\n",
        "plt.show()\n"
      ],
      "metadata": {
        "colab": {
          "base_uri": "https://localhost:8080/",
          "height": 561
        },
        "id": "DN6BykIu5j8e",
        "outputId": "ff67f464-46da-4d59-89b9-138b19a37e06"
      },
      "execution_count": 49,
      "outputs": [
        {
          "output_type": "stream",
          "name": "stderr",
          "text": [
            "/usr/local/lib/python3.10/dist-packages/sklearn/cluster/_kmeans.py:870: FutureWarning: The default value of `n_init` will change from 10 to 'auto' in 1.4. Set the value of `n_init` explicitly to suppress the warning\n",
            "  warnings.warn(\n"
          ]
        },
        {
          "output_type": "execute_result",
          "data": {
            "text/plain": [
              "<matplotlib.collections.PathCollection at 0x7ec35ac186a0>"
            ]
          },
          "metadata": {},
          "execution_count": 49
        },
        {
          "output_type": "execute_result",
          "data": {
            "text/plain": [
              "Text(0.5, 0, 'Encoded Dimension 1')"
            ]
          },
          "metadata": {},
          "execution_count": 49
        },
        {
          "output_type": "execute_result",
          "data": {
            "text/plain": [
              "Text(0, 0.5, 'Encoded Dimension 2')"
            ]
          },
          "metadata": {},
          "execution_count": 49
        },
        {
          "output_type": "execute_result",
          "data": {
            "text/plain": [
              "Text(0.5, 1.0, 'K-Means Clustering of Encoded Data')"
            ]
          },
          "metadata": {},
          "execution_count": 49
        },
        {
          "output_type": "execute_result",
          "data": {
            "text/plain": [
              "<matplotlib.colorbar.Colorbar at 0x7ec35ac1ae90>"
            ]
          },
          "metadata": {},
          "execution_count": 49
        },
        {
          "output_type": "display_data",
          "data": {
            "text/plain": [
              "<Figure size 640x480 with 2 Axes>"
            ],
            "image/png": "[encoded data removed]"
          },
          "metadata": {}
        }
      ]
    },
    {
      "cell_type": "code",
      "source": [
        "# Get the cluster centers\n",
        "cluster_centers = kmeans.cluster_centers_\n",
        "\n",
        "# Plot the scatter plot with cluster centers\n",
        "plt.scatter(encoded_data[:, 0], encoded_data[:, 1], c=cluster_labels, cmap='viridis', s=20)\n",
        "plt.scatter(cluster_centers[:, 0], cluster_centers[:, 1], c='red', marker='x', s=100, label='Cluster Centers')\n",
        "plt.xlabel('Encoded Dimension 1')\n",
        "plt.ylabel('Encoded Dimension 2')\n",
        "plt.title('K-Means Clustering of Encoded Data with Cluster Centers')\n",
        "plt.colorbar(label='Cluster Label')\n",
        "plt.legend()\n",
        "plt.show()\n"
      ],
      "metadata": {
        "colab": {
          "base_uri": "https://localhost:8080/",
          "height": 507
        },
        "id": "JmsvzAi0-jlH",
        "outputId": "d59d03b1-2eda-4890-bf17-23bb7c3e5e03"
      },
      "execution_count": 50,
      "outputs": [
        {
          "output_type": "execute_result",
          "data": {
            "text/plain": [
              "<matplotlib.collections.PathCollection at 0x7ec35aae7010>"
            ]
          },
          "metadata": {},
          "execution_count": 50
        },
        {
          "output_type": "execute_result",
          "data": {
            "text/plain": [
              "<matplotlib.collections.PathCollection at 0x7ec35aae7400>"
            ]
          },
          "metadata": {},
          "execution_count": 50
        },
        {
          "output_type": "execute_result",
          "data": {
            "text/plain": [
              "Text(0.5, 0, 'Encoded Dimension 1')"
            ]
          },
          "metadata": {},
          "execution_count": 50
        },
        {
          "output_type": "execute_result",
          "data": {
            "text/plain": [
              "Text(0, 0.5, 'Encoded Dimension 2')"
            ]
          },
          "metadata": {},
          "execution_count": 50
        },
        {
          "output_type": "execute_result",
          "data": {
            "text/plain": [
              "Text(0.5, 1.0, 'K-Means Clustering of Encoded Data with Cluster Centers')"
            ]
          },
          "metadata": {},
          "execution_count": 50
        },
        {
          "output_type": "execute_result",
          "data": {
            "text/plain": [
              "<matplotlib.colorbar.Colorbar at 0x7ec35aae7a30>"
            ]
          },
          "metadata": {},
          "execution_count": 50
        },
        {
          "output_type": "execute_result",
          "data": {
            "text/plain": [
              "<matplotlib.legend.Legend at 0x7ec35ac4e4d0>"
            ]
          },
          "metadata": {},
          "execution_count": 50
        },
        {
          "output_type": "display_data",
          "data": {
            "text/plain": [
              "<Figure size 640x480 with 2 Axes>"
            ],
            "image/png": "[encoded data removed]"
          },
          "metadata": {}
        }
      ]
    },
    {
      "cell_type": "code",
      "source": [
        "wcss = []\n",
        "for k in range(1, 4):\n",
        "    kmeans = KMeans(n_clusters=k, random_state=42)\n",
        "    kmeans.fit(encoded_data)\n",
        "    wcss.append(kmeans.inertia_)\n",
        "\n",
        "plt.plot(range(1, 4), wcss, marker='o', linestyle='--')\n",
        "plt.xlabel('Number of Clusters (K)')\n",
        "plt.ylabel('Within-Cluster Sum of Squares (WCSS)')\n",
        "plt.title('Elbow Method for Optimal K')\n",
        "plt.show()"
      ],
      "metadata": {
        "colab": {
          "base_uri": "https://localhost:8080/",
          "height": 785
        },
        "id": "tEqqUIuRBw0A",
        "outputId": "cd087580-8380-469b-a9d0-fce56703360e"
      },
      "execution_count": 55,
      "outputs": [
        {
          "output_type": "stream",
          "name": "stderr",
          "text": [
            "/usr/local/lib/python3.10/dist-packages/sklearn/cluster/_kmeans.py:870: FutureWarning: The default value of `n_init` will change from 10 to 'auto' in 1.4. Set the value of `n_init` explicitly to suppress the warning\n",
            "  warnings.warn(\n"
          ]
        },
        {
          "output_type": "execute_result",
          "data": {
            "text/plain": [
              "KMeans(n_clusters=1, random_state=42)"
            ],
            "text/html": [
              "<style>#sk-container-id-17 {color: black;background-color: white;}#sk-container-id-17 pre{padding: 0;}#sk-container-id-17 div.sk-toggleable {background-color: white;}#sk-container-id-17 label.sk-toggleable__label {cursor: pointer;display: block;width: 100%;margin-bottom: 0;padding: 0.3em;box-sizing: border-box;text-align: center;}#sk-container-id-17 label.sk-toggleable__label-arrow:before {content: \"▸\";float: left;margin-right: 0.25em;color: #696969;}#sk-container-id-17 label.sk-toggleable__label-arrow:hover:before {color: black;}#sk-container-id-17 div.sk-estimator:hover label.sk-toggleable__label-arrow:before {color: black;}#sk-container-id-17 div.sk-toggleable__content {max-height: 0;max-width: 0;overflow: hidden;text-align: left;background-color: #f0f8ff;}#sk-container-id-17 div.sk-toggleable__content pre {margin: 0.2em;color: black;border-radius: 0.25em;background-color: #f0f8ff;}#sk-container-id-17 input.sk-toggleable__control:checked~div.sk-toggleable__content {max-height: 200px;max-width: 100%;overflow: auto;}#sk-container-id-17 input.sk-toggleable__control:checked~label.sk-toggleable__label-arrow:before {content: \"▾\";}#sk-container-id-17 div.sk-estimator input.sk-toggleable__control:checked~label.sk-toggleable__label {background-color: #d4ebff;}#sk-container-id-17 div.sk-label input.sk-toggleable__control:checked~label.sk-toggleable__label {background-color: #d4ebff;}#sk-container-id-17 input.sk-hidden--visually {border: 0;clip: rect(1px 1px 1px 1px);clip: rect(1px, 1px, 1px, 1px);height: 1px;margin: -1px;overflow: hidden;padding: 0;position: absolute;width: 1px;}#sk-container-id-17 div.sk-estimator {font-family: monospace;background-color: #f0f8ff;border: 1px dotted black;border-radius: 0.25em;box-sizing: border-box;margin-bottom: 0.5em;}#sk-container-id-17 div.sk-estimator:hover {background-color: #d4ebff;}#sk-container-id-17 div.sk-parallel-item::after {content: \"\";width: 100%;border-bottom: 1px solid gray;flex-grow: 1;}#sk-container-id-17 div.sk-label:hover label.sk-toggleable__label {background-color: #d4ebff;}#sk-container-id-17 div.sk-serial::before {content: \"\";position: absolute;border-left: 1px solid gray;box-sizing: border-box;top: 0;bottom: 0;left: 50%;z-index: 0;}#sk-container-id-17 div.sk-serial {display: flex;flex-direction: column;align-items: center;background-color: white;padding-right: 0.2em;padding-left: 0.2em;position: relative;}#sk-container-id-17 div.sk-item {position: relative;z-index: 1;}#sk-container-id-17 div.sk-parallel {display: flex;align-items: stretch;justify-content: center;background-color: white;position: relative;}#sk-container-id-17 div.sk-item::before, #sk-container-id-17 div.sk-parallel-item::before {content: \"\";position: absolute;border-left: 1px solid gray;box-sizing: border-box;top: 0;bottom: 0;left: 50%;z-index: -1;}#sk-container-id-17 div.sk-parallel-item {display: flex;flex-direction: column;z-index: 1;position: relative;background-color: white;}#sk-container-id-17 div.sk-parallel-item:first-child::after {align-self: flex-end;width: 50%;}#sk-container-id-17 div.sk-parallel-item:last-child::after {align-self: flex-start;width: 50%;}#sk-container-id-17 div.sk-parallel-item:only-child::after {width: 0;}#sk-container-id-17 div.sk-dashed-wrapped {border: 1px dashed gray;margin: 0 0.4em 0.5em 0.4em;box-sizing: border-box;padding-bottom: 0.4em;background-color: white;}#sk-container-id-17 div.sk-label label {font-family: monospace;font-weight: bold;display: inline-block;line-height: 1.2em;}#sk-container-id-17 div.sk-label-container {text-align: center;}#sk-container-id-17 div.sk-container {/* jupyter's `normalize.less` sets `[hidden] { display: none; }` but bootstrap.min.css set `[hidden] { display: none !important; }` so we also need the `!important` here to be able to override the default hidden behavior on the sphinx rendered scikit-learn.org. See: https://github.com/scikit-learn/scikit-learn/issues/21755 */display: inline-block !important;position: relative;}#sk-container-id-17 div.sk-text-repr-fallback {display: none;}</style><div id=\"sk-container-id-17\" class=\"sk-top-container\"><div class=\"sk-text-repr-fallback\"><pre>KMeans(n_clusters=1, random_state=42)</pre><b>In a Jupyter environment, please rerun this cell to show the HTML representation or trust the notebook. <br />On GitHub, the HTML representation is unable to render, please try loading this page with nbviewer.org.</b></div><div class=\"sk-container\" hidden><div class=\"sk-item\"><div class=\"sk-estimator sk-toggleable\"><input class=\"sk-toggleable__control sk-hidden--visually\" id=\"sk-estimator-id-17\" type=\"checkbox\" checked><label for=\"sk-estimator-id-17\" class=\"sk-toggleable__label sk-toggleable__label-arrow\">KMeans</label><div class=\"sk-toggleable__content\"><pre>KMeans(n_clusters=1, random_state=42)</pre></div></div></div></div></div>"
            ]
          },
          "metadata": {},
          "execution_count": 55
        },
        {
          "output_type": "stream",
          "name": "stderr",
          "text": [
            "/usr/local/lib/python3.10/dist-packages/sklearn/cluster/_kmeans.py:870: FutureWarning: The default value of `n_init` will change from 10 to 'auto' in 1.4. Set the value of `n_init` explicitly to suppress the warning\n",
            "  warnings.warn(\n"
          ]
        },
        {
          "output_type": "execute_result",
          "data": {
            "text/plain": [
              "KMeans(n_clusters=2, random_state=42)"
            ],
            "text/html": [
              "<style>#sk-container-id-18 {color: black;background-color: white;}#sk-container-id-18 pre{padding: 0;}#sk-container-id-18 div.sk-toggleable {background-color: white;}#sk-container-id-18 label.sk-toggleable__label {cursor: pointer;display: block;width: 100%;margin-bottom: 0;padding: 0.3em;box-sizing: border-box;text-align: center;}#sk-container-id-18 label.sk-toggleable__label-arrow:before {content: \"▸\";float: left;margin-right: 0.25em;color: #696969;}#sk-container-id-18 label.sk-toggleable__label-arrow:hover:before {color: black;}#sk-container-id-18 div.sk-estimator:hover label.sk-toggleable__label-arrow:before {color: black;}#sk-container-id-18 div.sk-toggleable__content {max-height: 0;max-width: 0;overflow: hidden;text-align: left;background-color: #f0f8ff;}#sk-container-id-18 div.sk-toggleable__content pre {margin: 0.2em;color: black;border-radius: 0.25em;background-color: #f0f8ff;}#sk-container-id-18 input.sk-toggleable__control:checked~div.sk-toggleable__content {max-height: 200px;max-width: 100%;overflow: auto;}#sk-container-id-18 input.sk-toggleable__control:checked~label.sk-toggleable__label-arrow:before {content: \"▾\";}#sk-container-id-18 div.sk-estimator input.sk-toggleable__control:checked~label.sk-toggleable__label {background-color: #d4ebff;}#sk-container-id-18 div.sk-label input.sk-toggleable__control:checked~label.sk-toggleable__label {background-color: #d4ebff;}#sk-container-id-18 input.sk-hidden--visually {border: 0;clip: rect(1px 1px 1px 1px);clip: rect(1px, 1px, 1px, 1px);height: 1px;margin: -1px;overflow: hidden;padding: 0;position: absolute;width: 1px;}#sk-container-id-18 div.sk-estimator {font-family: monospace;background-color: #f0f8ff;border: 1px dotted black;border-radius: 0.25em;box-sizing: border-box;margin-bottom: 0.5em;}#sk-container-id-18 div.sk-estimator:hover {background-color: #d4ebff;}#sk-container-id-18 div.sk-parallel-item::after {content: \"\";width: 100%;border-bottom: 1px solid gray;flex-grow: 1;}#sk-container-id-18 div.sk-label:hover label.sk-toggleable__label {background-color: #d4ebff;}#sk-container-id-18 div.sk-serial::before {content: \"\";position: absolute;border-left: 1px solid gray;box-sizing: border-box;top: 0;bottom: 0;left: 50%;z-index: 0;}#sk-container-id-18 div.sk-serial {display: flex;flex-direction: column;align-items: center;background-color: white;padding-right: 0.2em;padding-left: 0.2em;position: relative;}#sk-container-id-18 div.sk-item {position: relative;z-index: 1;}#sk-container-id-18 div.sk-parallel {display: flex;align-items: stretch;justify-content: center;background-color: white;position: relative;}#sk-container-id-18 div.sk-item::before, #sk-container-id-18 div.sk-parallel-item::before {content: \"\";position: absolute;border-left: 1px solid gray;box-sizing: border-box;top: 0;bottom: 0;left: 50%;z-index: -1;}#sk-container-id-18 div.sk-parallel-item {display: flex;flex-direction: column;z-index: 1;position: relative;background-color: white;}#sk-container-id-18 div.sk-parallel-item:first-child::after {align-self: flex-end;width: 50%;}#sk-container-id-18 div.sk-parallel-item:last-child::after {align-self: flex-start;width: 50%;}#sk-container-id-18 div.sk-parallel-item:only-child::after {width: 0;}#sk-container-id-18 div.sk-dashed-wrapped {border: 1px dashed gray;margin: 0 0.4em 0.5em 0.4em;box-sizing: border-box;padding-bottom: 0.4em;background-color: white;}#sk-container-id-18 div.sk-label label {font-family: monospace;font-weight: bold;display: inline-block;line-height: 1.2em;}#sk-container-id-18 div.sk-label-container {text-align: center;}#sk-container-id-18 div.sk-container {/* jupyter's `normalize.less` sets `[hidden] { display: none; }` but bootstrap.min.css set `[hidden] { display: none !important; }` so we also need the `!important` here to be able to override the default hidden behavior on the sphinx rendered scikit-learn.org. See: https://github.com/scikit-learn/scikit-learn/issues/21755 */display: inline-block !important;position: relative;}#sk-container-id-18 div.sk-text-repr-fallback {display: none;}</style><div id=\"sk-container-id-18\" class=\"sk-top-container\"><div class=\"sk-text-repr-fallback\"><pre>KMeans(n_clusters=2, random_state=42)</pre><b>In a Jupyter environment, please rerun this cell to show the HTML representation or trust the notebook. <br />On GitHub, the HTML representation is unable to render, please try loading this page with nbviewer.org.</b></div><div class=\"sk-container\" hidden><div class=\"sk-item\"><div class=\"sk-estimator sk-toggleable\"><input class=\"sk-toggleable__control sk-hidden--visually\" id=\"sk-estimator-id-18\" type=\"checkbox\" checked><label for=\"sk-estimator-id-18\" class=\"sk-toggleable__label sk-toggleable__label-arrow\">KMeans</label><div class=\"sk-toggleable__content\"><pre>KMeans(n_clusters=2, random_state=42)</pre></div></div></div></div></div>"
            ]
          },
          "metadata": {},
          "execution_count": 55
        },
        {
          "output_type": "stream",
          "name": "stderr",
          "text": [
            "/usr/local/lib/python3.10/dist-packages/sklearn/cluster/_kmeans.py:870: FutureWarning: The default value of `n_init` will change from 10 to 'auto' in 1.4. Set the value of `n_init` explicitly to suppress the warning\n",
            "  warnings.warn(\n"
          ]
        },
        {
          "output_type": "execute_result",
          "data": {
            "text/plain": [
              "KMeans(n_clusters=3, random_state=42)"
            ],
            "text/html": [
              "<style>#sk-container-id-19 {color: black;background-color: white;}#sk-container-id-19 pre{padding: 0;}#sk-container-id-19 div.sk-toggleable {background-color: white;}#sk-container-id-19 label.sk-toggleable__label {cursor: pointer;display: block;width: 100%;margin-bottom: 0;padding: 0.3em;box-sizing: border-box;text-align: center;}#sk-container-id-19 label.sk-toggleable__label-arrow:before {content: \"▸\";float: left;margin-right: 0.25em;color: #696969;}#sk-container-id-19 label.sk-toggleable__label-arrow:hover:before {color: black;}#sk-container-id-19 div.sk-estimator:hover label.sk-toggleable__label-arrow:before {color: black;}#sk-container-id-19 div.sk-toggleable__content {max-height: 0;max-width: 0;overflow: hidden;text-align: left;background-color: #f0f8ff;}#sk-container-id-19 div.sk-toggleable__content pre {margin: 0.2em;color: black;border-radius: 0.25em;background-color: #f0f8ff;}#sk-container-id-19 input.sk-toggleable__control:checked~div.sk-toggleable__content {max-height: 200px;max-width: 100%;overflow: auto;}#sk-container-id-19 input.sk-toggleable__control:checked~label.sk-toggleable__label-arrow:before {content: \"▾\";}#sk-container-id-19 div.sk-estimator input.sk-toggleable__control:checked~label.sk-toggleable__label {background-color: #d4ebff;}#sk-container-id-19 div.sk-label input.sk-toggleable__control:checked~label.sk-toggleable__label {background-color: #d4ebff;}#sk-container-id-19 input.sk-hidden--visually {border: 0;clip: rect(1px 1px 1px 1px);clip: rect(1px, 1px, 1px, 1px);height: 1px;margin: -1px;overflow: hidden;padding: 0;position: absolute;width: 1px;}#sk-container-id-19 div.sk-estimator {font-family: monospace;background-color: #f0f8ff;border: 1px dotted black;border-radius: 0.25em;box-sizing: border-box;margin-bottom: 0.5em;}#sk-container-id-19 div.sk-estimator:hover {background-color: #d4ebff;}#sk-container-id-19 div.sk-parallel-item::after {content: \"\";width: 100%;border-bottom: 1px solid gray;flex-grow: 1;}#sk-container-id-19 div.sk-label:hover label.sk-toggleable__label {background-color: #d4ebff;}#sk-container-id-19 div.sk-serial::before {content: \"\";position: absolute;border-left: 1px solid gray;box-sizing: border-box;top: 0;bottom: 0;left: 50%;z-index: 0;}#sk-container-id-19 div.sk-serial {display: flex;flex-direction: column;align-items: center;background-color: white;padding-right: 0.2em;padding-left: 0.2em;position: relative;}#sk-container-id-19 div.sk-item {position: relative;z-index: 1;}#sk-container-id-19 div.sk-parallel {display: flex;align-items: stretch;justify-content: center;background-color: white;position: relative;}#sk-container-id-19 div.sk-item::before, #sk-container-id-19 div.sk-parallel-item::before {content: \"\";position: absolute;border-left: 1px solid gray;box-sizing: border-box;top: 0;bottom: 0;left: 50%;z-index: -1;}#sk-container-id-19 div.sk-parallel-item {display: flex;flex-direction: column;z-index: 1;position: relative;background-color: white;}#sk-container-id-19 div.sk-parallel-item:first-child::after {align-self: flex-end;width: 50%;}#sk-container-id-19 div.sk-parallel-item:last-child::after {align-self: flex-start;width: 50%;}#sk-container-id-19 div.sk-parallel-item:only-child::after {width: 0;}#sk-container-id-19 div.sk-dashed-wrapped {border: 1px dashed gray;margin: 0 0.4em 0.5em 0.4em;box-sizing: border-box;padding-bottom: 0.4em;background-color: white;}#sk-container-id-19 div.sk-label label {font-family: monospace;font-weight: bold;display: inline-block;line-height: 1.2em;}#sk-container-id-19 div.sk-label-container {text-align: center;}#sk-container-id-19 div.sk-container {/* jupyter's `normalize.less` sets `[hidden] { display: none; }` but bootstrap.min.css set `[hidden] { display: none !important; }` so we also need the `!important` here to be able to override the default hidden behavior on the sphinx rendered scikit-learn.org. See: https://github.com/scikit-learn/scikit-learn/issues/21755 */display: inline-block !important;position: relative;}#sk-container-id-19 div.sk-text-repr-fallback {display: none;}</style><div id=\"sk-container-id-19\" class=\"sk-top-container\"><div class=\"sk-text-repr-fallback\"><pre>KMeans(n_clusters=3, random_state=42)</pre><b>In a Jupyter environment, please rerun this cell to show the HTML representation or trust the notebook. <br />On GitHub, the HTML representation is unable to render, please try loading this page with nbviewer.org.</b></div><div class=\"sk-container\" hidden><div class=\"sk-item\"><div class=\"sk-estimator sk-toggleable\"><input class=\"sk-toggleable__control sk-hidden--visually\" id=\"sk-estimator-id-19\" type=\"checkbox\" checked><label for=\"sk-estimator-id-19\" class=\"sk-toggleable__label sk-toggleable__label-arrow\">KMeans</label><div class=\"sk-toggleable__content\"><pre>KMeans(n_clusters=3, random_state=42)</pre></div></div></div></div></div>"
            ]
          },
          "metadata": {},
          "execution_count": 55
        },
        {
          "output_type": "execute_result",
          "data": {
            "text/plain": [
              "[<matplotlib.lines.Line2D at 0x7ec34bb53310>]"
            ]
          },
          "metadata": {},
          "execution_count": 55
        },
        {
          "output_type": "execute_result",
          "data": {
            "text/plain": [
              "Text(0.5, 0, 'Number of Clusters (K)')"
            ]
          },
          "metadata": {},
          "execution_count": 55
        },
        {
          "output_type": "execute_result",
          "data": {
            "text/plain": [
              "Text(0, 0.5, 'Within-Cluster Sum of Squares (WCSS)')"
            ]
          },
          "metadata": {},
          "execution_count": 55
        },
        {
          "output_type": "execute_result",
          "data": {
            "text/plain": [
              "Text(0.5, 1.0, 'Elbow Method for Optimal K')"
            ]
          },
          "metadata": {},
          "execution_count": 55
        },
        {
          "output_type": "display_data",
          "data": {
            "text/plain": [
              "<Figure size 640x480 with 1 Axes>"
            ],
            "image/png": "[encoded data removed]"
          },
          "metadata": {}
        }
      ]
    },
    {
      "cell_type": "code",
      "source": [],
      "metadata": {
        "id": "mOy5RjBuLM9p"
      },
      "execution_count": null,
      "outputs": []
    }
  ],
  "metadata": {
    "colab": {
      "provenance": [],
      "authorship_tag": "ABX9TyOsWvvTbbc0UFje0ao3Bzv0",
      "include_colab_link": true
    },
    "kernelspec": {
      "display_name": "Python 3",
      "name": "python3"
    },
    "language_info": {
      "name": "python"
    }
  },
  "nbformat": 4,
  "nbformat_minor": 0
}